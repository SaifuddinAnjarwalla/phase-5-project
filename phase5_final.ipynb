{
 "cells": [
  {
   "cell_type": "markdown",
   "metadata": {},
   "source": [
    "# Introduction\n",
    "\n",
    "### I am an enterprising entrepreneur. I have developed a product for Airbnb. This product will (1) Increase Airbnbs client satisfaction, (2) increase Airbnb client sales, (3) increase Airbnb revenue.  \n",
    "\n",
    "## The story\n",
    "I started of as a young professional in London. I had a two bedroom flat. To generate some additional income I decided to rent one of the bedrooms. To register my room in airbnb the the process was more convoluted and complicated that i expencted. Then came the time where I was to decide the price i should list the room for. The advice from airbnb was the following:\n",
    "\n",
    "\n",
    "#### *'What to charge? It’s up to you, but these tips could help you decide:'*\n",
    "\n",
    "As a first time renter i had no Idea where to start. As a result, I thought that it would be a good idea to use data to reach some conclusion. \n",
    "\n",
    "\n",
    "## The business case\n",
    "I found that airbnb share a lot of their data publically. I wanted to find a way to predict the market value of your said property per night. This is valuable for three main reasons. \n",
    "\n",
    "1. Increase Airbnbs client satisfaction - Users like me have do doubt had similar conundrums. I hope this will allow for users to have a better and easier experience while listing properties in Airbnb. \n",
    "\n",
    "2. Increase Airbnb client sales - Not being able to value your property is a serious problem. This has significant impacts on your ability to sell your product. Being able to accuratley price your product should incrase the clients revenue.\n",
    "\n",
    "3. Increase Airbnb revenue - The more sales that happen on Airbnb the higher the Airbnb revenue. Accurate pricing will bring in customers who would have bought other products (hotel rooms etc) more sales for Airbnb customers will mean more revenue for Airbnb. \n",
    "\n",
    "\n",
    "## The Idea\n",
    "\n",
    "I will build a model that will predict the price of Airbnb's. \n",
    "\n",
    "I will use this to build a dashboard so that people can input details about their property and for an estimate price to be generated."
   ]
  },
  {
   "cell_type": "markdown",
   "metadata": {},
   "source": [
    "# Part 1: Import Libraries"
   ]
  },
  {
   "cell_type": "code",
   "execution_count": 1,
   "metadata": {},
   "outputs": [],
   "source": [
    "#data science\n",
    "import pandas as pd\n",
    "import numpy as np \n",
    "\n",
    "#plotting\n",
    "import matplotlib.pyplot as plt \n",
    "import seaborn as sns\n",
    "\n",
    "#xgboost\n",
    "import xgboost\n",
    "from xgboost import XGBRegressor\n",
    "from hyperopt import hp\n",
    "from hyperopt import hp,Trials,tpe,fmin,STATUS_OK\n",
    "\n",
    "#sklearn \n",
    "from sklearn.model_selection import train_test_split\n",
    "from sklearn.metrics import mean_squared_error\n",
    "\n",
    "#misc\n",
    "import re \n",
    "from datetime import datetime"
   ]
  },
  {
   "cell_type": "markdown",
   "metadata": {},
   "source": [
    "# Part 2: Load and Clean Data"
   ]
  },
  {
   "cell_type": "markdown",
   "metadata": {},
   "source": [
    "All the data for this project can be taken from http://insideairbnb.com/get-the-data.html ( I used the December 7, 2021 and the November 7, 2021 data)"
   ]
  },
  {
   "cell_type": "markdown",
   "metadata": {},
   "source": [
    "## 2.1 Listings Data"
   ]
  },
  {
   "cell_type": "code",
   "execution_count": 2,
   "metadata": {
    "scrolled": true
   },
   "outputs": [
    {
     "name": "stdout",
     "output_type": "stream",
     "text": [
      "Loaded 'listings_november.csv.gz' file, shape: (66951, 74)\n",
      "Loaded 'listings_december.csv.gz' file, shape: (66641, 74)\n"
     ]
    }
   ],
   "source": [
    "df_list_nov = pd.read_csv('listings_november.csv.gz',compression='gzip')\n",
    "print(f\"Loaded 'listings_november.csv.gz' file, shape: {df_list_nov.shape}\")\n",
    "df_list_dec = pd.read_csv('listings_december.csv.gz',compression='gzip')\n",
    "print(f\"Loaded 'listings_december.csv.gz' file, shape: {df_list_dec.shape}\")"
   ]
  },
  {
   "cell_type": "markdown",
   "metadata": {},
   "source": [
    "creating one data from from both tables "
   ]
  },
  {
   "cell_type": "code",
   "execution_count": 3,
   "metadata": {},
   "outputs": [
    {
     "data": {
      "text/plain": [
       "(133592, 74)"
      ]
     },
     "execution_count": 3,
     "metadata": {},
     "output_type": "execute_result"
    }
   ],
   "source": [
    "df_list = pd.concat([df_list_nov,df_list_dec],ignore_index=True)\n",
    "df_list.shape\n"
   ]
  },
  {
   "cell_type": "code",
   "execution_count": 4,
   "metadata": {},
   "outputs": [
    {
     "data": {
      "text/html": [
       "<div>\n",
       "<style scoped>\n",
       "    .dataframe tbody tr th:only-of-type {\n",
       "        vertical-align: middle;\n",
       "    }\n",
       "\n",
       "    .dataframe tbody tr th {\n",
       "        vertical-align: top;\n",
       "    }\n",
       "\n",
       "    .dataframe thead th {\n",
       "        text-align: right;\n",
       "    }\n",
       "</style>\n",
       "<table border=\"1\" class=\"dataframe\">\n",
       "  <thead>\n",
       "    <tr style=\"text-align: right;\">\n",
       "      <th></th>\n",
       "      <th>id</th>\n",
       "      <th>listing_url</th>\n",
       "      <th>scrape_id</th>\n",
       "      <th>last_scraped</th>\n",
       "      <th>name</th>\n",
       "      <th>description</th>\n",
       "      <th>neighborhood_overview</th>\n",
       "      <th>picture_url</th>\n",
       "      <th>host_id</th>\n",
       "      <th>host_url</th>\n",
       "      <th>...</th>\n",
       "      <th>review_scores_communication</th>\n",
       "      <th>review_scores_location</th>\n",
       "      <th>review_scores_value</th>\n",
       "      <th>license</th>\n",
       "      <th>instant_bookable</th>\n",
       "      <th>calculated_host_listings_count</th>\n",
       "      <th>calculated_host_listings_count_entire_homes</th>\n",
       "      <th>calculated_host_listings_count_private_rooms</th>\n",
       "      <th>calculated_host_listings_count_shared_rooms</th>\n",
       "      <th>reviews_per_month</th>\n",
       "    </tr>\n",
       "  </thead>\n",
       "  <tbody>\n",
       "    <tr>\n",
       "      <td>0</td>\n",
       "      <td>13913</td>\n",
       "      <td>https://www.airbnb.com/rooms/13913</td>\n",
       "      <td>20211109052113</td>\n",
       "      <td>2021-11-11</td>\n",
       "      <td>Holiday London DB Room Let-on going</td>\n",
       "      <td>My bright double bedroom with a large window h...</td>\n",
       "      <td>Finsbury Park is a friendly melting pot commun...</td>\n",
       "      <td>https://a0.muscache.com/pictures/miso/Hosting-...</td>\n",
       "      <td>54730</td>\n",
       "      <td>https://www.airbnb.com/users/show/54730</td>\n",
       "      <td>...</td>\n",
       "      <td>4.89</td>\n",
       "      <td>4.63</td>\n",
       "      <td>4.74</td>\n",
       "      <td>NaN</td>\n",
       "      <td>f</td>\n",
       "      <td>2</td>\n",
       "      <td>1</td>\n",
       "      <td>1</td>\n",
       "      <td>0</td>\n",
       "      <td>0.17</td>\n",
       "    </tr>\n",
       "    <tr>\n",
       "      <td>1</td>\n",
       "      <td>15400</td>\n",
       "      <td>https://www.airbnb.com/rooms/15400</td>\n",
       "      <td>20211109052113</td>\n",
       "      <td>2021-11-10</td>\n",
       "      <td>Bright Chelsea  Apartment. Chelsea!</td>\n",
       "      <td>Lots of windows and light.  St Luke's Gardens ...</td>\n",
       "      <td>It is Chelsea.</td>\n",
       "      <td>https://a0.muscache.com/pictures/428392/462d26...</td>\n",
       "      <td>60302</td>\n",
       "      <td>https://www.airbnb.com/users/show/60302</td>\n",
       "      <td>...</td>\n",
       "      <td>4.82</td>\n",
       "      <td>4.93</td>\n",
       "      <td>4.73</td>\n",
       "      <td>NaN</td>\n",
       "      <td>f</td>\n",
       "      <td>1</td>\n",
       "      <td>1</td>\n",
       "      <td>0</td>\n",
       "      <td>0</td>\n",
       "      <td>0.78</td>\n",
       "    </tr>\n",
       "    <tr>\n",
       "      <td>2</td>\n",
       "      <td>17402</td>\n",
       "      <td>https://www.airbnb.com/rooms/17402</td>\n",
       "      <td>20211109052113</td>\n",
       "      <td>2021-11-10</td>\n",
       "      <td>Superb 3-Bed/2 Bath &amp; Wifi: Trendy W1</td>\n",
       "      <td>You'll have a wonderful stay in this superb mo...</td>\n",
       "      <td>Location, location, location! You won't find b...</td>\n",
       "      <td>https://a0.muscache.com/pictures/39d5309d-fba7...</td>\n",
       "      <td>67564</td>\n",
       "      <td>https://www.airbnb.com/users/show/67564</td>\n",
       "      <td>...</td>\n",
       "      <td>4.66</td>\n",
       "      <td>4.85</td>\n",
       "      <td>4.59</td>\n",
       "      <td>NaN</td>\n",
       "      <td>f</td>\n",
       "      <td>2</td>\n",
       "      <td>2</td>\n",
       "      <td>0</td>\n",
       "      <td>0</td>\n",
       "      <td>0.35</td>\n",
       "    </tr>\n",
       "    <tr>\n",
       "      <td>3</td>\n",
       "      <td>17506</td>\n",
       "      <td>https://www.airbnb.com/rooms/17506</td>\n",
       "      <td>20211109052113</td>\n",
       "      <td>2021-11-10</td>\n",
       "      <td>Boutique Chelsea/Fulham Double bed 5-star ensuite</td>\n",
       "      <td>Enjoy a chic stay in this elegant but fully mo...</td>\n",
       "      <td>Fulham is 'villagey' and residential – a real ...</td>\n",
       "      <td>https://a0.muscache.com/pictures/11901327/e63d...</td>\n",
       "      <td>67915</td>\n",
       "      <td>https://www.airbnb.com/users/show/67915</td>\n",
       "      <td>...</td>\n",
       "      <td>NaN</td>\n",
       "      <td>NaN</td>\n",
       "      <td>NaN</td>\n",
       "      <td>NaN</td>\n",
       "      <td>f</td>\n",
       "      <td>2</td>\n",
       "      <td>0</td>\n",
       "      <td>2</td>\n",
       "      <td>0</td>\n",
       "      <td>NaN</td>\n",
       "    </tr>\n",
       "    <tr>\n",
       "      <td>4</td>\n",
       "      <td>25123</td>\n",
       "      <td>https://www.airbnb.com/rooms/25123</td>\n",
       "      <td>20211109052113</td>\n",
       "      <td>2021-11-10</td>\n",
       "      <td>Clean big Room in London (Room 1)</td>\n",
       "      <td>Big room with double bed/ clean sheets/ clean ...</td>\n",
       "      <td>Barnet is one of the largest boroughs in Londo...</td>\n",
       "      <td>https://a0.muscache.com/pictures/456905/a004b9...</td>\n",
       "      <td>103583</td>\n",
       "      <td>https://www.airbnb.com/users/show/103583</td>\n",
       "      <td>...</td>\n",
       "      <td>4.89</td>\n",
       "      <td>4.45</td>\n",
       "      <td>4.74</td>\n",
       "      <td>NaN</td>\n",
       "      <td>t</td>\n",
       "      <td>3</td>\n",
       "      <td>0</td>\n",
       "      <td>3</td>\n",
       "      <td>0</td>\n",
       "      <td>0.95</td>\n",
       "    </tr>\n",
       "  </tbody>\n",
       "</table>\n",
       "<p>5 rows × 74 columns</p>\n",
       "</div>"
      ],
      "text/plain": [
       "      id                         listing_url       scrape_id last_scraped  \\\n",
       "0  13913  https://www.airbnb.com/rooms/13913  20211109052113   2021-11-11   \n",
       "1  15400  https://www.airbnb.com/rooms/15400  20211109052113   2021-11-10   \n",
       "2  17402  https://www.airbnb.com/rooms/17402  20211109052113   2021-11-10   \n",
       "3  17506  https://www.airbnb.com/rooms/17506  20211109052113   2021-11-10   \n",
       "4  25123  https://www.airbnb.com/rooms/25123  20211109052113   2021-11-10   \n",
       "\n",
       "                                                name  \\\n",
       "0                Holiday London DB Room Let-on going   \n",
       "1                Bright Chelsea  Apartment. Chelsea!   \n",
       "2              Superb 3-Bed/2 Bath & Wifi: Trendy W1   \n",
       "3  Boutique Chelsea/Fulham Double bed 5-star ensuite   \n",
       "4                  Clean big Room in London (Room 1)   \n",
       "\n",
       "                                         description  \\\n",
       "0  My bright double bedroom with a large window h...   \n",
       "1  Lots of windows and light.  St Luke's Gardens ...   \n",
       "2  You'll have a wonderful stay in this superb mo...   \n",
       "3  Enjoy a chic stay in this elegant but fully mo...   \n",
       "4  Big room with double bed/ clean sheets/ clean ...   \n",
       "\n",
       "                               neighborhood_overview  \\\n",
       "0  Finsbury Park is a friendly melting pot commun...   \n",
       "1                                     It is Chelsea.   \n",
       "2  Location, location, location! You won't find b...   \n",
       "3  Fulham is 'villagey' and residential – a real ...   \n",
       "4  Barnet is one of the largest boroughs in Londo...   \n",
       "\n",
       "                                         picture_url  host_id  \\\n",
       "0  https://a0.muscache.com/pictures/miso/Hosting-...    54730   \n",
       "1  https://a0.muscache.com/pictures/428392/462d26...    60302   \n",
       "2  https://a0.muscache.com/pictures/39d5309d-fba7...    67564   \n",
       "3  https://a0.muscache.com/pictures/11901327/e63d...    67915   \n",
       "4  https://a0.muscache.com/pictures/456905/a004b9...   103583   \n",
       "\n",
       "                                   host_url  ... review_scores_communication  \\\n",
       "0   https://www.airbnb.com/users/show/54730  ...                        4.89   \n",
       "1   https://www.airbnb.com/users/show/60302  ...                        4.82   \n",
       "2   https://www.airbnb.com/users/show/67564  ...                        4.66   \n",
       "3   https://www.airbnb.com/users/show/67915  ...                         NaN   \n",
       "4  https://www.airbnb.com/users/show/103583  ...                        4.89   \n",
       "\n",
       "  review_scores_location review_scores_value license instant_bookable  \\\n",
       "0                   4.63                4.74     NaN                f   \n",
       "1                   4.93                4.73     NaN                f   \n",
       "2                   4.85                4.59     NaN                f   \n",
       "3                    NaN                 NaN     NaN                f   \n",
       "4                   4.45                4.74     NaN                t   \n",
       "\n",
       "  calculated_host_listings_count calculated_host_listings_count_entire_homes  \\\n",
       "0                              2                                           1   \n",
       "1                              1                                           1   \n",
       "2                              2                                           2   \n",
       "3                              2                                           0   \n",
       "4                              3                                           0   \n",
       "\n",
       "  calculated_host_listings_count_private_rooms  \\\n",
       "0                                            1   \n",
       "1                                            0   \n",
       "2                                            0   \n",
       "3                                            2   \n",
       "4                                            3   \n",
       "\n",
       "  calculated_host_listings_count_shared_rooms reviews_per_month  \n",
       "0                                           0              0.17  \n",
       "1                                           0              0.78  \n",
       "2                                           0              0.35  \n",
       "3                                           0               NaN  \n",
       "4                                           0              0.95  \n",
       "\n",
       "[5 rows x 74 columns]"
      ]
     },
     "execution_count": 4,
     "metadata": {},
     "output_type": "execute_result"
    }
   ],
   "source": [
    "df_list.head()"
   ]
  },
  {
   "cell_type": "code",
   "execution_count": 5,
   "metadata": {},
   "outputs": [
    {
     "data": {
      "text/plain": [
       "Index(['id', 'listing_url', 'scrape_id', 'last_scraped', 'name', 'description',\n",
       "       'neighborhood_overview', 'picture_url', 'host_id', 'host_url',\n",
       "       'host_name', 'host_since', 'host_location', 'host_about',\n",
       "       'host_response_time', 'host_response_rate', 'host_acceptance_rate',\n",
       "       'host_is_superhost', 'host_thumbnail_url', 'host_picture_url',\n",
       "       'host_neighbourhood', 'host_listings_count',\n",
       "       'host_total_listings_count', 'host_verifications',\n",
       "       'host_has_profile_pic', 'host_identity_verified', 'neighbourhood',\n",
       "       'neighbourhood_cleansed', 'neighbourhood_group_cleansed', 'latitude',\n",
       "       'longitude', 'property_type', 'room_type', 'accommodates', 'bathrooms',\n",
       "       'bathrooms_text', 'bedrooms', 'beds', 'amenities', 'price',\n",
       "       'minimum_nights', 'maximum_nights', 'minimum_minimum_nights',\n",
       "       'maximum_minimum_nights', 'minimum_maximum_nights',\n",
       "       'maximum_maximum_nights', 'minimum_nights_avg_ntm',\n",
       "       'maximum_nights_avg_ntm', 'calendar_updated', 'has_availability',\n",
       "       'availability_30', 'availability_60', 'availability_90',\n",
       "       'availability_365', 'calendar_last_scraped', 'number_of_reviews',\n",
       "       'number_of_reviews_ltm', 'number_of_reviews_l30d', 'first_review',\n",
       "       'last_review', 'review_scores_rating', 'review_scores_accuracy',\n",
       "       'review_scores_cleanliness', 'review_scores_checkin',\n",
       "       'review_scores_communication', 'review_scores_location',\n",
       "       'review_scores_value', 'license', 'instant_bookable',\n",
       "       'calculated_host_listings_count',\n",
       "       'calculated_host_listings_count_entire_homes',\n",
       "       'calculated_host_listings_count_private_rooms',\n",
       "       'calculated_host_listings_count_shared_rooms', 'reviews_per_month'],\n",
       "      dtype='object')"
      ]
     },
     "execution_count": 5,
     "metadata": {},
     "output_type": "execute_result"
    }
   ],
   "source": [
    "df_list.columns"
   ]
  },
  {
   "cell_type": "code",
   "execution_count": 6,
   "metadata": {},
   "outputs": [
    {
     "data": {
      "text/plain": [
       "array(['Private room in rental unit', 'Entire rental unit',\n",
       "       'Private room in townhouse', 'Private room in residential home',\n",
       "       'Entire townhouse', 'Private room in condominium (condo)',\n",
       "       'Room in serviced apartment', 'Entire condominium (condo)',\n",
       "       'Entire serviced apartment', 'Room in aparthotel',\n",
       "       'Private room in loft', 'Entire residential home',\n",
       "       'Shared room in rental unit', 'Tiny house', 'Entire guest suite',\n",
       "       'Entire loft', 'Houseboat', 'Private room in bed and breakfast',\n",
       "       'Private room in bungalow', 'Entire guesthouse',\n",
       "       'Private room in guesthouse', 'Shared room in residential home',\n",
       "       'Private room in cottage', 'Private room in guest suite',\n",
       "       'Entire cabin', 'Private room', 'Room in bed and breakfast',\n",
       "       'Private room in yurt', 'Private room in serviced apartment',\n",
       "       'Boat', 'Room in boutique hotel', 'Private room in villa',\n",
       "       'Entire cottage', 'Private room in parking space', 'Entire place',\n",
       "       'Private room in houseboat', 'Shared room in loft', 'Floor',\n",
       "       'Shared room in condominium (condo)', 'Camper/RV', 'Yurt',\n",
       "       'Shared room', 'Shared room in bed and breakfast',\n",
       "       'Shared room in hostel', 'Entire home/apt', 'Entire bungalow',\n",
       "       'Private room in hut', 'Entire villa', 'Private room in chalet',\n",
       "       'Private room in camper/rv', 'Shared room in townhouse',\n",
       "       'Private room in tiny house', 'Room in hotel', 'Entire chalet',\n",
       "       'Earth house', 'Private room in hostel',\n",
       "       'Shared room in serviced apartment', 'Room in hostel',\n",
       "       'Private room in lighthouse', 'Private room in floor',\n",
       "       'Shared room in villa', 'Private room in cabin',\n",
       "       'Private room in island', 'Private room in casa particular',\n",
       "       'Private room in earth house', 'Barn', 'Private room in treehouse',\n",
       "       'Shared room in farm stay', 'Shared room in bus',\n",
       "       'Shared room in guesthouse', 'Private room in boat',\n",
       "       'Shared room in bungalow', 'Castle', 'Campsite',\n",
       "       'Private room in farm stay', 'Shared room in hotel',\n",
       "       'Private room in dome house', 'Shared room in guest suite',\n",
       "       'Casa particular', 'Shared room in boutique hotel', 'Hut',\n",
       "       'Room in rental unit', 'Shared room in earth house',\n",
       "       \"Private room in shepherd's hut\", 'Private room in castle',\n",
       "       'Lighthouse', 'Dome house', 'Tent', 'Private room in nature lodge',\n",
       "       'Private room in minsu', 'Private room in religious building',\n",
       "       'Religious building', 'Entire vacation home',\n",
       "       'Private room in vacation home', 'Shared room in casa particular'],\n",
       "      dtype=object)"
      ]
     },
     "execution_count": 6,
     "metadata": {},
     "output_type": "execute_result"
    }
   ],
   "source": [
    "df_list['property_type'].unique()"
   ]
  },
  {
   "cell_type": "markdown",
   "metadata": {},
   "source": [
    "Having reviewed a lot of the data, I have decided to keep the below data to do additional work on "
   ]
  },
  {
   "cell_type": "code",
   "execution_count": 7,
   "metadata": {},
   "outputs": [
    {
     "name": "stdout",
     "output_type": "stream",
     "text": [
      "74 features before cleaning\n",
      "25 features after cleaning\n"
     ]
    }
   ],
   "source": [
    "features_to_keep = [\n",
    "    'name','description','host_since','host_location',\n",
    "    'host_response_time','host_response_rate','host_acceptance_rate','host_is_superhost','host_listings_count',\n",
    "    'host_has_profile_pic', 'host_identity_verified','neighbourhood_cleansed','latitude',\"maximum_nights\",\n",
    "    'longitude', 'property_type', 'room_type', 'accommodates','bathrooms','bedrooms','beds','amenities','minimum_nights',\n",
    "    'instant_bookable','price'\n",
    "]\n",
    "\n",
    "print(f'{df_list.shape[1]} features before cleaning')\n",
    "df_list = df_list[features_to_keep]\n",
    "print(f'{df_list.shape[1]} features after cleaning')"
   ]
  },
  {
   "cell_type": "markdown",
   "metadata": {},
   "source": [
    "This function cleans price. As you can see from the data table, price is not in a workable wormat. We need to:\n",
    "1. delete the symbol\n",
    "2. delete the last two digits\n",
    "3. delete the seperateing commas"
   ]
  },
  {
   "cell_type": "code",
   "execution_count": 8,
   "metadata": {},
   "outputs": [
    {
     "data": {
      "text/plain": [
       "count    133592.000000\n",
       "mean        142.804876\n",
       "std         327.815840\n",
       "min           0.000000\n",
       "25%          46.000000\n",
       "50%          82.000000\n",
       "75%         143.000000\n",
       "max       18557.000000\n",
       "Name: price, dtype: float64"
      ]
     },
     "execution_count": 8,
     "metadata": {},
     "output_type": "execute_result"
    }
   ],
   "source": [
    "def clean_price(x):\n",
    "    x = x[1:-3] \n",
    "    x = re.sub(r'[^\\w\\s]','',x)\n",
    "    return float(x)\n",
    "\n",
    "price = df_list['price'].apply(lambda x: clean_price(x))\n",
    "df_list = df_list.drop(columns=['price'])\n",
    "price.describe()"
   ]
  },
  {
   "cell_type": "markdown",
   "metadata": {},
   "source": [
    "## 2.2 Further Data"
   ]
  },
  {
   "cell_type": "code",
   "execution_count": 9,
   "metadata": {},
   "outputs": [],
   "source": [
    "# df_review_short = pd.read_csv('../data/reviews.csv')\n",
    "# print(f\"Loaded 'reviews.csv' file, shape: {df_review_short.shape}\")\n",
    "# df_review_full = pd.read_csv('../data/reviews.csv.gz',compression='gzip')\n",
    "# print(f\"Loaded 'reviews.csv.gz' file, shape: {df_review_full.shape}\")\n",
    "# df_review = df_review_full.merge(df_review_short,on=['listing_id','date'])\n",
    "# print(f\"Merged two reviews' datasets into one, shape: {df_review.shape}\")"
   ]
  },
  {
   "cell_type": "code",
   "execution_count": 10,
   "metadata": {},
   "outputs": [],
   "source": [
    "#df_calendar = pd.read_csv('../data/calendar.csv.gz',compression='gzip')"
   ]
  },
  {
   "cell_type": "markdown",
   "metadata": {},
   "source": [
    "## 2.3 Data Pre-Processing"
   ]
  },
  {
   "cell_type": "markdown",
   "metadata": {},
   "source": [
    "Overall: 24 features\n",
    "\n",
    "Text features (2):\n",
    "\n",
    "<ul>\n",
    "    <li>name</li>\n",
    "    <li>description</li>\n",
    "</ul>\n",
    "\n",
    "Numeric features (9):\n",
    "\n",
    "<ul>\n",
    "    <li>host_response_rate</li>\n",
    "    <li>host_acceptance_rate</li>\n",
    "    <li>host_listings_count</li>\n",
    "    <li>accommodates</li>\n",
    "    <li>bedrooms</li>\n",
    "    <li>beds</li>\n",
    "    <li>bathrooms</li>\n",
    "    <li>minimum_nights</li>\n",
    "    <li>maximum_nights</li>\n",
    "</ul>\n",
    "\n",
    "Categorical features (8):\n",
    "\n",
    "<ul>\n",
    "    <li>host_is_superhost</li>\n",
    "    <li>host_has_profile_pic</li>\n",
    "    <li>host_identity_verified</li>\n",
    "    <li>host_response_time</li>\n",
    "    <li>neighbourhood_cleansed</li>\n",
    "    <li>property_type</li>\n",
    "    <li>room_type</li>\n",
    "    <li>instant_bookable</li>\n",
    "    <li>amenities</li>\n",
    "</ul>\n",
    "\n",
    "Datetime features (1):\n",
    "\n",
    "<ul>\n",
    "    <li>host_since</li>\n",
    "</ul>\n",
    "\n",
    "Features that won't be used in training, but might be used for feature engineering (4):\n",
    "\n",
    "<ul>\n",
    "    <li>latitude</li>\n",
    "    <li>longitude</li>\n",
    "    <li>amenities</li>\n",
    "    <li>host_location</li>\n",
    "</ul>"
   ]
  },
  {
   "cell_type": "markdown",
   "metadata": {},
   "source": [
    "### 2.3.1 Categorical Features\n",
    "\n",
    "here we make true values equal to 1 and false values equal to 0"
   ]
  },
  {
   "cell_type": "code",
   "execution_count": 11,
   "metadata": {},
   "outputs": [],
   "source": [
    "mult_cat_feats = ['neighbourhood_cleansed','property_type','room_type','host_response_time']\n",
    "bool_feats = ['host_is_superhost','host_has_profile_pic','host_identity_verified','instant_bookable']"
   ]
  },
  {
   "cell_type": "code",
   "execution_count": 12,
   "metadata": {},
   "outputs": [],
   "source": [
    "def clean_bool(x):\n",
    "    if x == 't':\n",
    "        return 1\n",
    "    else:\n",
    "        return 0\n",
    "\n",
    "for bool_feat in bool_feats:\n",
    "    df_list[bool_feat] = df_list[bool_feat].apply(lambda x: clean_bool(x))"
   ]
  },
  {
   "cell_type": "markdown",
   "metadata": {},
   "source": [
    "### 2.3.2 Numeric Features\n",
    "\n",
    "Here we clean some of the numeric values that are not integers"
   ]
  },
  {
   "cell_type": "code",
   "execution_count": 13,
   "metadata": {},
   "outputs": [],
   "source": [
    "def clean_num(x):\n",
    "    if type(x) is not float:\n",
    "        x = x[:-1]\n",
    "        return int(x)\n",
    "    else:\n",
    "        return None\n",
    "\n",
    "num_feats_to_clean = ['host_response_rate','host_acceptance_rate']\n",
    "\n",
    "for feat in num_feats_to_clean:\n",
    "    df_list[feat] = df_list[feat].apply(lambda x: clean_num(x))"
   ]
  },
  {
   "cell_type": "markdown",
   "metadata": {},
   "source": [
    "### 2.3.3 Datetime features\n",
    "\n",
    "Here we manupulate the host_since value to get the number of days since the host has been a host"
   ]
  },
  {
   "cell_type": "code",
   "execution_count": 14,
   "metadata": {},
   "outputs": [],
   "source": [
    "def get_host_since_days(x):\n",
    "    try:\n",
    "        diff = (datetime.date(datetime.strptime('07/12/21','%d/%m/%y'))-x).days\n",
    "        return diff\n",
    "    except:\n",
    "        return None \n",
    "\n",
    "df_list['host_since'] = pd.DatetimeIndex(df_list['host_since']).date.tolist()\n",
    "df_list['host_since_days'] = df_list['host_since'].apply(lambda x: get_host_since_days(x))"
   ]
  },
  {
   "cell_type": "code",
   "execution_count": 15,
   "metadata": {},
   "outputs": [],
   "source": [
    "graphs = pd.concat([df_list, price], axis=1)\n"
   ]
  },
  {
   "cell_type": "code",
   "execution_count": 16,
   "metadata": {},
   "outputs": [
    {
     "data": {
      "text/plain": [
       "array(['Islington', 'Kensington and Chelsea', 'Westminster',\n",
       "       'Hammersmith and Fulham', 'Barnet', 'Hounslow',\n",
       "       'Richmond upon Thames', 'Haringey', 'Croydon', 'Southwark',\n",
       "       'Waltham Forest', 'Brent', 'Camden', 'Newham', 'Tower Hamlets',\n",
       "       'Lambeth', 'Hackney', 'Merton', 'Lewisham', 'Wandsworth',\n",
       "       'Bromley', 'Havering', 'Greenwich', 'Enfield', 'City of London',\n",
       "       'Ealing', 'Barking and Dagenham', 'Hillingdon', 'Harrow',\n",
       "       'Redbridge', 'Kingston upon Thames', 'Bexley', 'Sutton'],\n",
       "      dtype=object)"
      ]
     },
     "execution_count": 16,
     "metadata": {},
     "output_type": "execute_result"
    }
   ],
   "source": [
    "graphs['neighbourhood_cleansed'].unique()"
   ]
  },
  {
   "cell_type": "code",
   "execution_count": 17,
   "metadata": {},
   "outputs": [
    {
     "data": {
      "text/plain": [
       "<matplotlib.axes._subplots.AxesSubplot at 0x11a170da0>"
      ]
     },
     "execution_count": 17,
     "metadata": {},
     "output_type": "execute_result"
    },
    {
     "data": {
      "image/png": "[encoded data removed]",
      "text/plain": [
       "<Figure size 1080x360 with 1 Axes>"
      ]
     },
     "metadata": {
      "needs_background": "light"
     },
     "output_type": "display_data"
    }
   ],
   "source": [
    "dfg = graphs.groupby(['neighbourhood_cleansed'])['price'].mean()\n",
    "dfg.plot(kind='bar', stacked=True, figsize=(15,5), color = '#ff5c5c')"
   ]
  },
  {
   "cell_type": "code",
   "execution_count": 18,
   "metadata": {},
   "outputs": [
    {
     "data": {
      "text/plain": [
       "75.16319220681903"
      ]
     },
     "execution_count": 18,
     "metadata": {},
     "output_type": "execute_result"
    }
   ],
   "source": [
    "df_list['host_acceptance_rate'].mean()"
   ]
  },
  {
   "cell_type": "markdown",
   "metadata": {},
   "source": [
    "A chart showing price grouped by whether the host is a superhost or not"
   ]
  },
  {
   "cell_type": "code",
   "execution_count": 19,
   "metadata": {},
   "outputs": [
    {
     "data": {
      "text/plain": [
       "<matplotlib.axes._subplots.AxesSubplot at 0x1a2234c2b0>"
      ]
     },
     "execution_count": 19,
     "metadata": {},
     "output_type": "execute_result"
    },
    {
     "data": {
      "image/png": "[encoded data removed]",
      "text/plain": [
       "<Figure size 360x360 with 1 Axes>"
      ]
     },
     "metadata": {
      "needs_background": "light"
     },
     "output_type": "display_data"
    }
   ],
   "source": [
    "dfg1 = graphs.groupby(['host_has_profile_pic'])['price'].mean()\n",
    "dfg1.plot(kind='bar', stacked=True, figsize=(5,5), color = '#ff5c5c')"
   ]
  },
  {
   "cell_type": "code",
   "execution_count": 20,
   "metadata": {},
   "outputs": [
    {
     "data": {
      "text/plain": [
       "<matplotlib.axes._subplots.AxesSubplot at 0x1a20795358>"
      ]
     },
     "execution_count": 20,
     "metadata": {},
     "output_type": "execute_result"
    },
    {
     "data": {
      "image/png": "[encoded data removed]",
      "text/plain": [
       "<Figure size 360x360 with 1 Axes>"
      ]
     },
     "metadata": {
      "needs_background": "light"
     },
     "output_type": "display_data"
    }
   ],
   "source": [
    "dfg1 = graphs.groupby(['host_identity_verified'])['price'].mean()\n",
    "dfg1.plot(kind='bar', stacked=True, figsize=(5,5), color = '#ff5c5c')"
   ]
  },
  {
   "cell_type": "markdown",
   "metadata": {},
   "source": [
    "A chart showing price grouped by number of beds"
   ]
  },
  {
   "cell_type": "code",
   "execution_count": 21,
   "metadata": {},
   "outputs": [
    {
     "data": {
      "text/plain": [
       "<matplotlib.axes._subplots.AxesSubplot at 0x1a20838dd8>"
      ]
     },
     "execution_count": 21,
     "metadata": {},
     "output_type": "execute_result"
    },
    {
     "data": {
      "image/png": "[encoded data removed]",
      "text/plain": [
       "<Figure size 360x360 with 1 Axes>"
      ]
     },
     "metadata": {
      "needs_background": "light"
     },
     "output_type": "display_data"
    }
   ],
   "source": [
    "dfg1 = graphs.groupby(['bedrooms'])['price'].mean()\n",
    "dfg1.plot(kind='bar', stacked=True, figsize=(5,5), color = '#ff5c5c')"
   ]
  },
  {
   "cell_type": "code",
   "execution_count": 22,
   "metadata": {
    "scrolled": false
   },
   "outputs": [
    {
     "data": {
      "text/plain": [
       "<matplotlib.axes._subplots.AxesSubplot at 0x1a20838358>"
      ]
     },
     "execution_count": 22,
     "metadata": {},
     "output_type": "execute_result"
    },
    {
     "data": {
      "image/png": "[encoded data removed]",
      "text/plain": [
       "<Figure size 360x360 with 1 Axes>"
      ]
     },
     "metadata": {
      "needs_background": "light"
     },
     "output_type": "display_data"
    }
   ],
   "source": [
    "dfg1 = graphs.groupby(['room_type'])['price'].mean()\n",
    "dfg1.plot(kind='bar', stacked=True, figsize=(5,5), color = '#ff5c5c')"
   ]
  },
  {
   "cell_type": "markdown",
   "metadata": {},
   "source": [
    "### 2.3.4 Feature Engineering\n",
    "\n",
    "We have a feature called 'amenities' these range from things like 'shampoo' to 'nivea soap' as a result it is difficult to use this feature. We thus change it from being a categorical value to having a number. It is true that in this case you could fool the model by putting as many amenities as possible however its feature importance is not incredibly high and the user does not know this"
   ]
  },
  {
   "cell_type": "code",
   "execution_count": 23,
   "metadata": {},
   "outputs": [],
   "source": [
    "def get_num_amenities(x):\n",
    "    str_list = x[1:-1]\n",
    "    am_list = str_list.split(',')\n",
    "    return len(am_list)\n",
    "\n",
    "df_list['num_amenities'] = df_list['amenities'].apply(lambda x: get_num_amenities(x))"
   ]
  },
  {
   "cell_type": "code",
   "execution_count": 24,
   "metadata": {},
   "outputs": [],
   "source": [
    "unique_amenities = set()\n",
    "\n",
    "for i in range(df_list.shape[0]):\n",
    "    str_list = df_list['amenities'].iloc[i]\n",
    "    str_list = str_list[1:-1]\n",
    "    am_list = str_list.split(',')\n",
    "    for am in am_list:\n",
    "        am_clean = am[1:-1]\n",
    "        unique_amenities.add(am_clean)"
   ]
  },
  {
   "cell_type": "markdown",
   "metadata": {},
   "source": [
    "A chart showing price grouped by bourough "
   ]
  },
  {
   "cell_type": "code",
   "execution_count": 25,
   "metadata": {
    "scrolled": true
   },
   "outputs": [
    {
     "data": {
      "text/plain": [
       "Index(['name', 'description', 'host_since', 'host_location',\n",
       "       'host_response_time', 'host_response_rate', 'host_acceptance_rate',\n",
       "       'host_is_superhost', 'host_listings_count', 'host_has_profile_pic',\n",
       "       'host_identity_verified', 'neighbourhood_cleansed', 'latitude',\n",
       "       'maximum_nights', 'longitude', 'property_type', 'room_type',\n",
       "       'accommodates', 'bathrooms', 'bedrooms', 'beds', 'amenities',\n",
       "       'minimum_nights', 'instant_bookable', 'host_since_days',\n",
       "       'num_amenities'],\n",
       "      dtype='object')"
      ]
     },
     "execution_count": 25,
     "metadata": {},
     "output_type": "execute_result"
    }
   ],
   "source": [
    "df_list.columns"
   ]
  },
  {
   "cell_type": "markdown",
   "metadata": {},
   "source": [
    "A chart showing price grouped by whether the host is a superhost or not"
   ]
  },
  {
   "cell_type": "markdown",
   "metadata": {},
   "source": [
    "## 2.4 Final Data Preparation "
   ]
  },
  {
   "cell_type": "code",
   "execution_count": 27,
   "metadata": {},
   "outputs": [],
   "source": [
    "features_to_keep = [\n",
    "    'host_since_days','host_response_time','host_response_rate','host_acceptance_rate','host_is_superhost','host_listings_count',\"maximum_nights\",\n",
    "    'host_has_profile_pic', 'host_identity_verified','neighbourhood_cleansed','property_type', 'room_type', 'accommodates','bathrooms','bedrooms','beds','minimum_nights',\n",
    "    'instant_bookable','num_amenities'\n",
    "]\n",
    "\n",
    "df_list = df_list[features_to_keep]\n",
    "df_list = pd.get_dummies(df_list)"
   ]
  },
  {
   "cell_type": "markdown",
   "metadata": {},
   "source": [
    "## 2.5 Clean Price Outliers\n",
    "\n",
    "We decide to delete outliers as those who are 2 standard deviations away from the mean"
   ]
  },
  {
   "cell_type": "code",
   "execution_count": 29,
   "metadata": {},
   "outputs": [
    {
     "name": "stdout",
     "output_type": "stream",
     "text": [
      "$798.436556902554 This is our max Airbnb price\n",
      "1.92% of data points can be removed from the dataset\n"
     ]
    }
   ],
   "source": [
    "lim = price.mean()+2*price.std() \n",
    "print(f\"${lim} This is our max Airbnb price\")\n",
    "prop_removed = round(((price[price>lim].count())/(price.count()))*100,2)\n",
    "print(f\"{prop_removed}% of data points can be removed from the dataset\")"
   ]
  },
  {
   "cell_type": "code",
   "execution_count": 30,
   "metadata": {},
   "outputs": [],
   "source": [
    "price = price[price<lim]"
   ]
  },
  {
   "cell_type": "code",
   "execution_count": 31,
   "metadata": {},
   "outputs": [],
   "source": [
    "df_list = df_list.loc[price.index]"
   ]
  },
  {
   "cell_type": "markdown",
   "metadata": {},
   "source": [
    "# Part 3: Model Training and Testing"
   ]
  },
  {
   "cell_type": "markdown",
   "metadata": {},
   "source": [
    "## 3.1 Training\n",
    "\n",
    "See that i have also broken by trainign test into validation. As i was researching i saw that it is even better practive than simple test train to break train into train and validate. this way you never touch the training dataset at all"
   ]
  },
  {
   "cell_type": "code",
   "execution_count": 32,
   "metadata": {},
   "outputs": [
    {
     "data": {
      "text/plain": [
       "((94339, 151), (23585, 151), (13103, 151))"
      ]
     },
     "execution_count": 32,
     "metadata": {},
     "output_type": "execute_result"
    }
   ],
   "source": [
    "X_train,X_test,y_train,y_test = train_test_split(df_list,price,train_size=.9)\n",
    "X_train,X_val,y_train,y_val = train_test_split(X_train,y_train,train_size=.8)\n",
    "\n",
    "X_train.shape,X_val.shape,X_test.shape"
   ]
  },
  {
   "cell_type": "markdown",
   "metadata": {},
   "source": [
    "### 3.1.1 Hyperparameters Tuning\n",
    "\n",
    "Here I fidn the best parameters for my model. After research i found that this is a more efficint way of tunign parameters than gridsearch. As opposed to going though every combination as gridsearch does here we choose a random combination then based on how our model perfors we continue to adjust. Although this takes a whiel to run we can then fine our best parameters"
   ]
  },
  {
   "cell_type": "code",
   "execution_count": 31,
   "metadata": {},
   "outputs": [
    {
     "name": "stdout",
     "output_type": "stream",
     "text": [
      "\r",
      "  0%|          | 0/100 [00:00<?, ?trial/s, best loss=?]"
     ]
    },
    {
     "name": "stderr",
     "output_type": "stream",
     "text": [
      "/opt/anaconda3/envs/learn-env/lib/python3.6/site-packages/xgboost/core.py:587: FutureWarning: Series.base is deprecated and will be removed in a future version\n",
      "  if getattr(data, 'base', None) is not None and \\\n",
      "\n"
     ]
    },
    {
     "name": "stdout",
     "output_type": "stream",
     "text": [
      "\r",
      "  1%|          | 1/100 [00:51<1:24:49, 51.40s/trial, best loss: 57.83645532025849]"
     ]
    },
    {
     "name": "stderr",
     "output_type": "stream",
     "text": [
      "/opt/anaconda3/envs/learn-env/lib/python3.6/site-packages/xgboost/core.py:587: FutureWarning: Series.base is deprecated and will be removed in a future version\n",
      "  if getattr(data, 'base', None) is not None and \\\n",
      "\n"
     ]
    },
    {
     "name": "stdout",
     "output_type": "stream",
     "text": [
      "\r",
      "  2%|▏         | 2/100 [05:24<3:12:46, 118.03s/trial, best loss: 47.09193852831462]"
     ]
    },
    {
     "name": "stderr",
     "output_type": "stream",
     "text": [
      "/opt/anaconda3/envs/learn-env/lib/python3.6/site-packages/xgboost/core.py:587: FutureWarning: Series.base is deprecated and will be removed in a future version\n",
      "  if getattr(data, 'base', None) is not None and \\\n",
      "\n"
     ]
    },
    {
     "name": "stdout",
     "output_type": "stream",
     "text": [
      "\r",
      "  3%|▎         | 3/100 [09:44<4:19:38, 160.60s/trial, best loss: 47.09193852831462]"
     ]
    },
    {
     "name": "stderr",
     "output_type": "stream",
     "text": [
      "/opt/anaconda3/envs/learn-env/lib/python3.6/site-packages/xgboost/core.py:587: FutureWarning: Series.base is deprecated and will be removed in a future version\n",
      "  if getattr(data, 'base', None) is not None and \\\n",
      "\n"
     ]
    },
    {
     "name": "stdout",
     "output_type": "stream",
     "text": [
      "\r",
      "  4%|▍         | 4/100 [11:19<3:45:06, 140.69s/trial, best loss: 47.09193852831462]"
     ]
    },
    {
     "name": "stderr",
     "output_type": "stream",
     "text": [
      "/opt/anaconda3/envs/learn-env/lib/python3.6/site-packages/xgboost/core.py:587: FutureWarning: Series.base is deprecated and will be removed in a future version\n",
      "  if getattr(data, 'base', None) is not None and \\\n",
      "\n"
     ]
    },
    {
     "name": "stdout",
     "output_type": "stream",
     "text": [
      "\r",
      "  5%|▌         | 5/100 [12:26<3:08:04, 118.78s/trial, best loss: 47.09193852831462]"
     ]
    },
    {
     "name": "stderr",
     "output_type": "stream",
     "text": [
      "/opt/anaconda3/envs/learn-env/lib/python3.6/site-packages/xgboost/core.py:587: FutureWarning: Series.base is deprecated and will be removed in a future version\n",
      "  if getattr(data, 'base', None) is not None and \\\n",
      "\n"
     ]
    },
    {
     "name": "stdout",
     "output_type": "stream",
     "text": [
      "\r",
      "  6%|▌         | 6/100 [13:37<2:43:38, 104.45s/trial, best loss: 47.09193852831462]"
     ]
    },
    {
     "name": "stderr",
     "output_type": "stream",
     "text": [
      "/opt/anaconda3/envs/learn-env/lib/python3.6/site-packages/xgboost/core.py:587: FutureWarning: Series.base is deprecated and will be removed in a future version\n",
      "  if getattr(data, 'base', None) is not None and \\\n",
      "\n"
     ]
    },
    {
     "name": "stdout",
     "output_type": "stream",
     "text": [
      "\r",
      "  7%|▋         | 7/100 [15:24<2:42:50, 105.06s/trial, best loss: 47.09193852831462]"
     ]
    },
    {
     "name": "stderr",
     "output_type": "stream",
     "text": [
      "/opt/anaconda3/envs/learn-env/lib/python3.6/site-packages/xgboost/core.py:587: FutureWarning: Series.base is deprecated and will be removed in a future version\n",
      "  if getattr(data, 'base', None) is not None and \\\n",
      "\n"
     ]
    },
    {
     "name": "stdout",
     "output_type": "stream",
     "text": [
      "\r",
      "  8%|▊         | 8/100 [19:19<3:40:47, 144.00s/trial, best loss: 43.64326808745404]"
     ]
    },
    {
     "name": "stderr",
     "output_type": "stream",
     "text": [
      "/opt/anaconda3/envs/learn-env/lib/python3.6/site-packages/xgboost/core.py:587: FutureWarning: Series.base is deprecated and will be removed in a future version\n",
      "  if getattr(data, 'base', None) is not None and \\\n",
      "\n"
     ]
    },
    {
     "name": "stdout",
     "output_type": "stream",
     "text": [
      "\r",
      "  9%|▉         | 9/100 [21:52<3:42:30, 146.71s/trial, best loss: 43.64326808745404]"
     ]
    },
    {
     "name": "stderr",
     "output_type": "stream",
     "text": [
      "/opt/anaconda3/envs/learn-env/lib/python3.6/site-packages/xgboost/core.py:587: FutureWarning: Series.base is deprecated and will be removed in a future version\n",
      "  if getattr(data, 'base', None) is not None and \\\n",
      "\n"
     ]
    },
    {
     "name": "stdout",
     "output_type": "stream",
     "text": [
      "\r",
      " 10%|█         | 10/100 [26:04<4:27:23, 178.27s/trial, best loss: 43.64326808745404]"
     ]
    },
    {
     "name": "stderr",
     "output_type": "stream",
     "text": [
      "/opt/anaconda3/envs/learn-env/lib/python3.6/site-packages/xgboost/core.py:587: FutureWarning: Series.base is deprecated and will be removed in a future version\n",
      "  if getattr(data, 'base', None) is not None and \\\n",
      "\n"
     ]
    },
    {
     "name": "stdout",
     "output_type": "stream",
     "text": [
      "\r",
      " 11%|█         | 11/100 [30:24<5:01:12, 203.06s/trial, best loss: 43.64326808745404]"
     ]
    },
    {
     "name": "stderr",
     "output_type": "stream",
     "text": [
      "/opt/anaconda3/envs/learn-env/lib/python3.6/site-packages/xgboost/core.py:587: FutureWarning: Series.base is deprecated and will be removed in a future version\n",
      "  if getattr(data, 'base', None) is not None and \\\n",
      "\n"
     ]
    },
    {
     "name": "stdout",
     "output_type": "stream",
     "text": [
      "\r",
      " 12%|█▏        | 12/100 [32:13<4:16:07, 174.63s/trial, best loss: 43.64326808745404]"
     ]
    },
    {
     "name": "stderr",
     "output_type": "stream",
     "text": [
      "/opt/anaconda3/envs/learn-env/lib/python3.6/site-packages/xgboost/core.py:587: FutureWarning: Series.base is deprecated and will be removed in a future version\n",
      "  if getattr(data, 'base', None) is not None and \\\n",
      "\n"
     ]
    },
    {
     "name": "stdout",
     "output_type": "stream",
     "text": [
      "\r",
      " 13%|█▎        | 13/100 [33:10<3:22:19, 139.53s/trial, best loss: 43.64326808745404]"
     ]
    },
    {
     "name": "stderr",
     "output_type": "stream",
     "text": [
      "/opt/anaconda3/envs/learn-env/lib/python3.6/site-packages/xgboost/core.py:587: FutureWarning: Series.base is deprecated and will be removed in a future version\n",
      "  if getattr(data, 'base', None) is not None and \\\n",
      "\n"
     ]
    },
    {
     "name": "stdout",
     "output_type": "stream",
     "text": [
      "\r",
      " 14%|█▍        | 14/100 [33:44<2:34:20, 107.69s/trial, best loss: 43.64326808745404]"
     ]
    },
    {
     "name": "stderr",
     "output_type": "stream",
     "text": [
      "/opt/anaconda3/envs/learn-env/lib/python3.6/site-packages/xgboost/core.py:587: FutureWarning: Series.base is deprecated and will be removed in a future version\n",
      "  if getattr(data, 'base', None) is not None and \\\n",
      "\n"
     ]
    },
    {
     "name": "stdout",
     "output_type": "stream",
     "text": [
      "\r",
      " 15%|█▌        | 15/100 [39:21<4:09:58, 176.46s/trial, best loss: 43.64326808745404]"
     ]
    },
    {
     "name": "stderr",
     "output_type": "stream",
     "text": [
      "/opt/anaconda3/envs/learn-env/lib/python3.6/site-packages/xgboost/core.py:587: FutureWarning: Series.base is deprecated and will be removed in a future version\n",
      "  if getattr(data, 'base', None) is not None and \\\n",
      "\n"
     ]
    },
    {
     "name": "stdout",
     "output_type": "stream",
     "text": [
      "\r",
      " 16%|█▌        | 16/100 [41:21<3:43:33, 159.68s/trial, best loss: 43.64326808745404]"
     ]
    },
    {
     "name": "stderr",
     "output_type": "stream",
     "text": [
      "/opt/anaconda3/envs/learn-env/lib/python3.6/site-packages/xgboost/core.py:587: FutureWarning: Series.base is deprecated and will be removed in a future version\n",
      "  if getattr(data, 'base', None) is not None and \\\n",
      "\n"
     ]
    },
    {
     "name": "stdout",
     "output_type": "stream",
     "text": [
      "\r",
      " 17%|█▋        | 17/100 [45:30<4:17:51, 186.40s/trial, best loss: 43.64326808745404]"
     ]
    },
    {
     "name": "stderr",
     "output_type": "stream",
     "text": [
      "/opt/anaconda3/envs/learn-env/lib/python3.6/site-packages/xgboost/core.py:587: FutureWarning: Series.base is deprecated and will be removed in a future version\n",
      "  if getattr(data, 'base', None) is not None and \\\n",
      "\n"
     ]
    },
    {
     "name": "stdout",
     "output_type": "stream",
     "text": [
      "\r",
      " 18%|█▊        | 18/100 [50:40<5:05:24, 223.47s/trial, best loss: 43.64326808745404]"
     ]
    },
    {
     "name": "stderr",
     "output_type": "stream",
     "text": [
      "/opt/anaconda3/envs/learn-env/lib/python3.6/site-packages/xgboost/core.py:587: FutureWarning: Series.base is deprecated and will be removed in a future version\n",
      "  if getattr(data, 'base', None) is not None and \\\n",
      "\n"
     ]
    },
    {
     "name": "stdout",
     "output_type": "stream",
     "text": [
      "\r",
      " 19%|█▉        | 19/100 [54:47<5:11:25, 230.68s/trial, best loss: 43.64326808745404]"
     ]
    },
    {
     "name": "stderr",
     "output_type": "stream",
     "text": [
      "/opt/anaconda3/envs/learn-env/lib/python3.6/site-packages/xgboost/core.py:587: FutureWarning: Series.base is deprecated and will be removed in a future version\n",
      "  if getattr(data, 'base', None) is not None and \\\n",
      "\n"
     ]
    },
    {
     "name": "stdout",
     "output_type": "stream",
     "text": [
      "\r",
      " 20%|██        | 20/100 [55:03<3:41:25, 166.07s/trial, best loss: 43.64326808745404]"
     ]
    },
    {
     "name": "stderr",
     "output_type": "stream",
     "text": [
      "/opt/anaconda3/envs/learn-env/lib/python3.6/site-packages/xgboost/core.py:587: FutureWarning: Series.base is deprecated and will be removed in a future version\n",
      "  if getattr(data, 'base', None) is not None and \\\n",
      "\n"
     ]
    },
    {
     "name": "stdout",
     "output_type": "stream",
     "text": [
      "\r",
      " 21%|██        | 21/100 [1:00:48<4:49:21, 219.77s/trial, best loss: 43.64326808745404]"
     ]
    },
    {
     "name": "stderr",
     "output_type": "stream",
     "text": [
      "/opt/anaconda3/envs/learn-env/lib/python3.6/site-packages/xgboost/core.py:587: FutureWarning: Series.base is deprecated and will be removed in a future version\n",
      "  if getattr(data, 'base', None) is not None and \\\n",
      "\n"
     ]
    },
    {
     "name": "stdout",
     "output_type": "stream",
     "text": [
      "\r",
      " 22%|██▏       | 22/100 [1:04:42<4:51:16, 224.06s/trial, best loss: 43.64326808745404]"
     ]
    },
    {
     "name": "stderr",
     "output_type": "stream",
     "text": [
      "/opt/anaconda3/envs/learn-env/lib/python3.6/site-packages/xgboost/core.py:587: FutureWarning: Series.base is deprecated and will be removed in a future version\n",
      "  if getattr(data, 'base', None) is not None and \\\n",
      "\n"
     ]
    },
    {
     "name": "stdout",
     "output_type": "stream",
     "text": [
      "\r",
      " 23%|██▎       | 23/100 [1:09:11<5:04:49, 237.52s/trial, best loss: 43.64326808745404]"
     ]
    },
    {
     "name": "stderr",
     "output_type": "stream",
     "text": [
      "/opt/anaconda3/envs/learn-env/lib/python3.6/site-packages/xgboost/core.py:587: FutureWarning: Series.base is deprecated and will be removed in a future version\n",
      "  if getattr(data, 'base', None) is not None and \\\n",
      "\n"
     ]
    },
    {
     "name": "stdout",
     "output_type": "stream",
     "text": [
      "\r",
      " 24%|██▍       | 24/100 [1:10:56<4:10:31, 197.79s/trial, best loss: 43.64326808745404]"
     ]
    },
    {
     "name": "stderr",
     "output_type": "stream",
     "text": [
      "/opt/anaconda3/envs/learn-env/lib/python3.6/site-packages/xgboost/core.py:587: FutureWarning: Series.base is deprecated and will be removed in a future version\n",
      "  if getattr(data, 'base', None) is not None and \\\n",
      "\n"
     ]
    },
    {
     "name": "stdout",
     "output_type": "stream",
     "text": [
      "\r",
      " 25%|██▌       | 25/100 [1:13:30<3:50:46, 184.62s/trial, best loss: 43.64326808745404]"
     ]
    },
    {
     "name": "stderr",
     "output_type": "stream",
     "text": [
      "/opt/anaconda3/envs/learn-env/lib/python3.6/site-packages/xgboost/core.py:587: FutureWarning: Series.base is deprecated and will be removed in a future version\n",
      "  if getattr(data, 'base', None) is not None and \\\n",
      "\n"
     ]
    },
    {
     "name": "stdout",
     "output_type": "stream",
     "text": [
      "\r",
      " 26%|██▌       | 26/100 [1:18:17<4:25:34, 215.33s/trial, best loss: 43.3551060027836] "
     ]
    },
    {
     "name": "stderr",
     "output_type": "stream",
     "text": [
      "/opt/anaconda3/envs/learn-env/lib/python3.6/site-packages/xgboost/core.py:587: FutureWarning: Series.base is deprecated and will be removed in a future version\n",
      "  if getattr(data, 'base', None) is not None and \\\n",
      "\n"
     ]
    },
    {
     "name": "stdout",
     "output_type": "stream",
     "text": [
      "\r",
      " 27%|██▋       | 27/100 [1:21:36<4:15:59, 210.41s/trial, best loss: 43.3551060027836]"
     ]
    },
    {
     "name": "stderr",
     "output_type": "stream",
     "text": [
      "/opt/anaconda3/envs/learn-env/lib/python3.6/site-packages/xgboost/core.py:587: FutureWarning: Series.base is deprecated and will be removed in a future version\n",
      "  if getattr(data, 'base', None) is not None and \\\n",
      "\n"
     ]
    },
    {
     "name": "stdout",
     "output_type": "stream",
     "text": [
      "\r",
      " 28%|██▊       | 28/100 [1:25:51<4:28:47, 223.99s/trial, best loss: 43.3551060027836]"
     ]
    },
    {
     "name": "stderr",
     "output_type": "stream",
     "text": [
      "/opt/anaconda3/envs/learn-env/lib/python3.6/site-packages/xgboost/core.py:587: FutureWarning: Series.base is deprecated and will be removed in a future version\n",
      "  if getattr(data, 'base', None) is not None and \\\n",
      "\n"
     ]
    },
    {
     "name": "stdout",
     "output_type": "stream",
     "text": [
      "\r",
      " 29%|██▉       | 29/100 [1:30:59<4:54:37, 248.98s/trial, best loss: 42.939764151453716]"
     ]
    },
    {
     "name": "stderr",
     "output_type": "stream",
     "text": [
      "/opt/anaconda3/envs/learn-env/lib/python3.6/site-packages/xgboost/core.py:587: FutureWarning: Series.base is deprecated and will be removed in a future version\n",
      "  if getattr(data, 'base', None) is not None and \\\n",
      "\n"
     ]
    },
    {
     "name": "stdout",
     "output_type": "stream",
     "text": [
      "\r",
      " 30%|███       | 30/100 [1:34:38<4:39:57, 239.96s/trial, best loss: 42.939764151453716]"
     ]
    },
    {
     "name": "stderr",
     "output_type": "stream",
     "text": [
      "/opt/anaconda3/envs/learn-env/lib/python3.6/site-packages/xgboost/core.py:587: FutureWarning: Series.base is deprecated and will be removed in a future version\n",
      "  if getattr(data, 'base', None) is not None and \\\n",
      "\n"
     ]
    },
    {
     "name": "stdout",
     "output_type": "stream",
     "text": [
      "\r",
      " 31%|███       | 31/100 [1:35:59<3:41:10, 192.32s/trial, best loss: 42.939764151453716]"
     ]
    },
    {
     "name": "stderr",
     "output_type": "stream",
     "text": [
      "/opt/anaconda3/envs/learn-env/lib/python3.6/site-packages/xgboost/core.py:587: FutureWarning: Series.base is deprecated and will be removed in a future version\n",
      "  if getattr(data, 'base', None) is not None and \\\n",
      "\n"
     ]
    },
    {
     "name": "stdout",
     "output_type": "stream",
     "text": [
      "\r",
      " 32%|███▏      | 32/100 [1:42:53<4:53:20, 258.83s/trial, best loss: 42.14545380647356] "
     ]
    },
    {
     "name": "stderr",
     "output_type": "stream",
     "text": [
      "/opt/anaconda3/envs/learn-env/lib/python3.6/site-packages/xgboost/core.py:587: FutureWarning: Series.base is deprecated and will be removed in a future version\n",
      "  if getattr(data, 'base', None) is not None and \\\n",
      "\n"
     ]
    },
    {
     "name": "stdout",
     "output_type": "stream",
     "text": [
      "\r",
      " 33%|███▎      | 33/100 [1:46:51<4:42:05, 252.62s/trial, best loss: 42.14545380647356]"
     ]
    },
    {
     "name": "stderr",
     "output_type": "stream",
     "text": [
      "/opt/anaconda3/envs/learn-env/lib/python3.6/site-packages/xgboost/core.py:587: FutureWarning: Series.base is deprecated and will be removed in a future version\n",
      "  if getattr(data, 'base', None) is not None and \\\n",
      "\n"
     ]
    },
    {
     "name": "stdout",
     "output_type": "stream",
     "text": [
      "\r",
      " 34%|███▍      | 34/100 [1:51:37<4:48:50, 262.59s/trial, best loss: 42.14545380647356]"
     ]
    },
    {
     "name": "stderr",
     "output_type": "stream",
     "text": [
      "/opt/anaconda3/envs/learn-env/lib/python3.6/site-packages/xgboost/core.py:587: FutureWarning: Series.base is deprecated and will be removed in a future version\n",
      "  if getattr(data, 'base', None) is not None and \\\n",
      "\n"
     ]
    },
    {
     "name": "stdout",
     "output_type": "stream",
     "text": [
      "\r",
      " 35%|███▌      | 35/100 [1:52:46<3:41:37, 204.57s/trial, best loss: 42.14545380647356]"
     ]
    },
    {
     "name": "stderr",
     "output_type": "stream",
     "text": [
      "/opt/anaconda3/envs/learn-env/lib/python3.6/site-packages/xgboost/core.py:587: FutureWarning: Series.base is deprecated and will be removed in a future version\n",
      "  if getattr(data, 'base', None) is not None and \\\n",
      "\n"
     ]
    },
    {
     "name": "stdout",
     "output_type": "stream",
     "text": [
      "\r",
      " 36%|███▌      | 36/100 [1:53:38<2:49:15, 158.68s/trial, best loss: 42.14545380647356]"
     ]
    },
    {
     "name": "stderr",
     "output_type": "stream",
     "text": [
      "/opt/anaconda3/envs/learn-env/lib/python3.6/site-packages/xgboost/core.py:587: FutureWarning: Series.base is deprecated and will be removed in a future version\n",
      "  if getattr(data, 'base', None) is not None and \\\n",
      "\n"
     ]
    },
    {
     "name": "stdout",
     "output_type": "stream",
     "text": [
      "\r",
      " 37%|███▋      | 37/100 [1:58:59<3:37:59, 207.61s/trial, best loss: 42.14545380647356]"
     ]
    },
    {
     "name": "stderr",
     "output_type": "stream",
     "text": [
      "/opt/anaconda3/envs/learn-env/lib/python3.6/site-packages/xgboost/core.py:587: FutureWarning: Series.base is deprecated and will be removed in a future version\n",
      "  if getattr(data, 'base', None) is not None and \\\n",
      "\n"
     ]
    },
    {
     "name": "stdout",
     "output_type": "stream",
     "text": [
      "\r",
      " 38%|███▊      | 38/100 [2:03:53<4:01:19, 233.54s/trial, best loss: 42.14545380647356]"
     ]
    },
    {
     "name": "stderr",
     "output_type": "stream",
     "text": [
      "/opt/anaconda3/envs/learn-env/lib/python3.6/site-packages/xgboost/core.py:587: FutureWarning: Series.base is deprecated and will be removed in a future version\n",
      "  if getattr(data, 'base', None) is not None and \\\n",
      "\n"
     ]
    },
    {
     "name": "stdout",
     "output_type": "stream",
     "text": [
      "\r",
      " 39%|███▉      | 39/100 [2:06:23<3:31:43, 208.26s/trial, best loss: 42.14545380647356]"
     ]
    },
    {
     "name": "stderr",
     "output_type": "stream",
     "text": [
      "/opt/anaconda3/envs/learn-env/lib/python3.6/site-packages/xgboost/core.py:587: FutureWarning: Series.base is deprecated and will be removed in a future version\n",
      "  if getattr(data, 'base', None) is not None and \\\n",
      "\n"
     ]
    },
    {
     "name": "stdout",
     "output_type": "stream",
     "text": [
      "\r",
      " 40%|████      | 40/100 [2:09:43<3:25:56, 205.94s/trial, best loss: 42.14545380647356]"
     ]
    },
    {
     "name": "stderr",
     "output_type": "stream",
     "text": [
      "/opt/anaconda3/envs/learn-env/lib/python3.6/site-packages/xgboost/core.py:587: FutureWarning: Series.base is deprecated and will be removed in a future version\n",
      "  if getattr(data, 'base', None) is not None and \\\n",
      "\n"
     ]
    },
    {
     "name": "stdout",
     "output_type": "stream",
     "text": [
      "\r",
      " 41%|████      | 41/100 [2:11:36<2:55:10, 178.14s/trial, best loss: 42.14545380647356]"
     ]
    },
    {
     "name": "stderr",
     "output_type": "stream",
     "text": [
      "/opt/anaconda3/envs/learn-env/lib/python3.6/site-packages/xgboost/core.py:587: FutureWarning: Series.base is deprecated and will be removed in a future version\n",
      "  if getattr(data, 'base', None) is not None and \\\n",
      "\n"
     ]
    },
    {
     "name": "stdout",
     "output_type": "stream",
     "text": [
      "\r",
      " 42%|████▏     | 42/100 [2:12:56<2:23:35, 148.54s/trial, best loss: 42.14545380647356]"
     ]
    },
    {
     "name": "stderr",
     "output_type": "stream",
     "text": [
      "/opt/anaconda3/envs/learn-env/lib/python3.6/site-packages/xgboost/core.py:587: FutureWarning: Series.base is deprecated and will be removed in a future version\n",
      "  if getattr(data, 'base', None) is not None and \\\n",
      "\n"
     ]
    },
    {
     "name": "stdout",
     "output_type": "stream",
     "text": [
      "\r",
      " 43%|████▎     | 43/100 [2:15:45<2:26:58, 154.70s/trial, best loss: 42.14545380647356]"
     ]
    },
    {
     "name": "stderr",
     "output_type": "stream",
     "text": [
      "/opt/anaconda3/envs/learn-env/lib/python3.6/site-packages/xgboost/core.py:587: FutureWarning: Series.base is deprecated and will be removed in a future version\n",
      "  if getattr(data, 'base', None) is not None and \\\n",
      "\n"
     ]
    },
    {
     "name": "stdout",
     "output_type": "stream",
     "text": [
      "\r",
      " 44%|████▍     | 44/100 [2:16:20<1:50:59, 118.92s/trial, best loss: 42.14545380647356]"
     ]
    },
    {
     "name": "stderr",
     "output_type": "stream",
     "text": [
      "/opt/anaconda3/envs/learn-env/lib/python3.6/site-packages/xgboost/core.py:587: FutureWarning: Series.base is deprecated and will be removed in a future version\n",
      "  if getattr(data, 'base', None) is not None and \\\n",
      "\n"
     ]
    },
    {
     "name": "stdout",
     "output_type": "stream",
     "text": [
      "\r",
      " 45%|████▌     | 45/100 [2:21:58<2:49:14, 184.62s/trial, best loss: 42.14545380647356]"
     ]
    },
    {
     "name": "stderr",
     "output_type": "stream",
     "text": [
      "/opt/anaconda3/envs/learn-env/lib/python3.6/site-packages/xgboost/core.py:587: FutureWarning: Series.base is deprecated and will be removed in a future version\n",
      "  if getattr(data, 'base', None) is not None and \\\n",
      "\n"
     ]
    },
    {
     "name": "stdout",
     "output_type": "stream",
     "text": [
      "\r",
      " 46%|████▌     | 46/100 [2:22:17<2:01:23, 134.88s/trial, best loss: 42.14545380647356]"
     ]
    },
    {
     "name": "stderr",
     "output_type": "stream",
     "text": [
      "/opt/anaconda3/envs/learn-env/lib/python3.6/site-packages/xgboost/core.py:587: FutureWarning: Series.base is deprecated and will be removed in a future version\n",
      "  if getattr(data, 'base', None) is not None and \\\n",
      "\n"
     ]
    },
    {
     "name": "stdout",
     "output_type": "stream",
     "text": [
      "\r",
      " 47%|████▋     | 47/100 [2:24:17<1:55:02, 130.24s/trial, best loss: 42.14545380647356]"
     ]
    },
    {
     "name": "stderr",
     "output_type": "stream",
     "text": [
      "/opt/anaconda3/envs/learn-env/lib/python3.6/site-packages/xgboost/core.py:587: FutureWarning: Series.base is deprecated and will be removed in a future version\n",
      "  if getattr(data, 'base', None) is not None and \\\n",
      "\n"
     ]
    },
    {
     "name": "stdout",
     "output_type": "stream",
     "text": [
      "\r",
      " 48%|████▊     | 48/100 [2:28:28<2:24:17, 166.49s/trial, best loss: 42.14545380647356]"
     ]
    },
    {
     "name": "stderr",
     "output_type": "stream",
     "text": [
      "/opt/anaconda3/envs/learn-env/lib/python3.6/site-packages/xgboost/core.py:587: FutureWarning: Series.base is deprecated and will be removed in a future version\n",
      "  if getattr(data, 'base', None) is not None and \\\n",
      "\n"
     ]
    },
    {
     "name": "stdout",
     "output_type": "stream",
     "text": [
      "\r",
      " 49%|████▉     | 49/100 [2:28:45<1:43:35, 121.86s/trial, best loss: 42.14545380647356]"
     ]
    },
    {
     "name": "stderr",
     "output_type": "stream",
     "text": [
      "/opt/anaconda3/envs/learn-env/lib/python3.6/site-packages/xgboost/core.py:587: FutureWarning: Series.base is deprecated and will be removed in a future version\n",
      "  if getattr(data, 'base', None) is not None and \\\n",
      "\n"
     ]
    },
    {
     "name": "stdout",
     "output_type": "stream",
     "text": [
      "\r",
      " 50%|█████     | 50/100 [2:30:25<1:35:56, 115.14s/trial, best loss: 42.14545380647356]"
     ]
    },
    {
     "name": "stderr",
     "output_type": "stream",
     "text": [
      "/opt/anaconda3/envs/learn-env/lib/python3.6/site-packages/xgboost/core.py:587: FutureWarning: Series.base is deprecated and will be removed in a future version\n",
      "  if getattr(data, 'base', None) is not None and \\\n",
      "\n"
     ]
    },
    {
     "name": "stdout",
     "output_type": "stream",
     "text": [
      "\r",
      " 51%|█████     | 51/100 [2:32:58<1:43:25, 126.64s/trial, best loss: 42.14545380647356]"
     ]
    },
    {
     "name": "stderr",
     "output_type": "stream",
     "text": [
      "/opt/anaconda3/envs/learn-env/lib/python3.6/site-packages/xgboost/core.py:587: FutureWarning: Series.base is deprecated and will be removed in a future version\n",
      "  if getattr(data, 'base', None) is not None and \\\n",
      "\n"
     ]
    },
    {
     "name": "stdout",
     "output_type": "stream",
     "text": [
      "\r",
      " 52%|█████▏    | 52/100 [2:41:28<3:13:15, 241.56s/trial, best loss: 41.97087158350894]"
     ]
    },
    {
     "name": "stderr",
     "output_type": "stream",
     "text": [
      "/opt/anaconda3/envs/learn-env/lib/python3.6/site-packages/xgboost/core.py:587: FutureWarning: Series.base is deprecated and will be removed in a future version\n",
      "  if getattr(data, 'base', None) is not None and \\\n",
      "\n"
     ]
    },
    {
     "name": "stdout",
     "output_type": "stream",
     "text": [
      "\r",
      " 53%|█████▎    | 53/100 [2:45:24<3:07:54, 239.88s/trial, best loss: 41.97087158350894]"
     ]
    },
    {
     "name": "stderr",
     "output_type": "stream",
     "text": [
      "/opt/anaconda3/envs/learn-env/lib/python3.6/site-packages/xgboost/core.py:587: FutureWarning: Series.base is deprecated and will be removed in a future version\n",
      "  if getattr(data, 'base', None) is not None and \\\n",
      "\n"
     ]
    },
    {
     "name": "stdout",
     "output_type": "stream",
     "text": [
      "\r",
      " 54%|█████▍    | 54/100 [2:50:29<3:18:56, 259.49s/trial, best loss: 41.97087158350894]"
     ]
    },
    {
     "name": "stderr",
     "output_type": "stream",
     "text": [
      "/opt/anaconda3/envs/learn-env/lib/python3.6/site-packages/xgboost/core.py:587: FutureWarning: Series.base is deprecated and will be removed in a future version\n",
      "  if getattr(data, 'base', None) is not None and \\\n",
      "\n"
     ]
    },
    {
     "name": "stdout",
     "output_type": "stream",
     "text": [
      "\r",
      " 55%|█████▌    | 55/100 [2:57:35<3:51:56, 309.25s/trial, best loss: 41.97087158350894]"
     ]
    },
    {
     "name": "stderr",
     "output_type": "stream",
     "text": [
      "/opt/anaconda3/envs/learn-env/lib/python3.6/site-packages/xgboost/core.py:587: FutureWarning: Series.base is deprecated and will be removed in a future version\n",
      "  if getattr(data, 'base', None) is not None and \\\n",
      "\n"
     ]
    },
    {
     "name": "stdout",
     "output_type": "stream",
     "text": [
      "\r",
      " 56%|█████▌    | 56/100 [3:05:36<4:24:41, 360.95s/trial, best loss: 41.97087158350894]"
     ]
    },
    {
     "name": "stderr",
     "output_type": "stream",
     "text": [
      "/opt/anaconda3/envs/learn-env/lib/python3.6/site-packages/xgboost/core.py:587: FutureWarning: Series.base is deprecated and will be removed in a future version\n",
      "  if getattr(data, 'base', None) is not None and \\\n",
      "\n"
     ]
    },
    {
     "name": "stdout",
     "output_type": "stream",
     "text": [
      "\r",
      " 57%|█████▋    | 57/100 [3:12:11<4:25:53, 371.02s/trial, best loss: 41.97087158350894]"
     ]
    },
    {
     "name": "stderr",
     "output_type": "stream",
     "text": [
      "/opt/anaconda3/envs/learn-env/lib/python3.6/site-packages/xgboost/core.py:587: FutureWarning: Series.base is deprecated and will be removed in a future version\n",
      "  if getattr(data, 'base', None) is not None and \\\n",
      "\n"
     ]
    },
    {
     "name": "stdout",
     "output_type": "stream",
     "text": [
      "\r",
      " 58%|█████▊    | 58/100 [3:14:13<3:27:35, 296.55s/trial, best loss: 41.97087158350894]"
     ]
    },
    {
     "name": "stderr",
     "output_type": "stream",
     "text": [
      "/opt/anaconda3/envs/learn-env/lib/python3.6/site-packages/xgboost/core.py:587: FutureWarning: Series.base is deprecated and will be removed in a future version\n",
      "  if getattr(data, 'base', None) is not None and \\\n",
      "\n"
     ]
    },
    {
     "name": "stdout",
     "output_type": "stream",
     "text": [
      "\r",
      " 59%|█████▉    | 59/100 [3:19:44<3:29:35, 306.72s/trial, best loss: 41.97087158350894]"
     ]
    },
    {
     "name": "stderr",
     "output_type": "stream",
     "text": [
      "/opt/anaconda3/envs/learn-env/lib/python3.6/site-packages/xgboost/core.py:587: FutureWarning: Series.base is deprecated and will be removed in a future version\n",
      "  if getattr(data, 'base', None) is not None and \\\n",
      "\n"
     ]
    },
    {
     "name": "stdout",
     "output_type": "stream",
     "text": [
      "\r",
      " 60%|██████    | 60/100 [3:20:57<2:37:41, 236.53s/trial, best loss: 41.97087158350894]"
     ]
    },
    {
     "name": "stderr",
     "output_type": "stream",
     "text": [
      "/opt/anaconda3/envs/learn-env/lib/python3.6/site-packages/xgboost/core.py:587: FutureWarning: Series.base is deprecated and will be removed in a future version\n",
      "  if getattr(data, 'base', None) is not None and \\\n",
      "\n"
     ]
    },
    {
     "name": "stdout",
     "output_type": "stream",
     "text": [
      "\r",
      " 61%|██████    | 61/100 [3:23:21<2:15:40, 208.74s/trial, best loss: 41.97087158350894]"
     ]
    },
    {
     "name": "stderr",
     "output_type": "stream",
     "text": [
      "/opt/anaconda3/envs/learn-env/lib/python3.6/site-packages/xgboost/core.py:587: FutureWarning: Series.base is deprecated and will be removed in a future version\n",
      "  if getattr(data, 'base', None) is not None and \\\n",
      "\n"
     ]
    },
    {
     "name": "stdout",
     "output_type": "stream",
     "text": [
      "\r",
      " 62%|██████▏   | 62/100 [3:27:22<2:18:20, 218.42s/trial, best loss: 41.97087158350894]"
     ]
    },
    {
     "name": "stderr",
     "output_type": "stream",
     "text": [
      "/opt/anaconda3/envs/learn-env/lib/python3.6/site-packages/xgboost/core.py:587: FutureWarning: Series.base is deprecated and will be removed in a future version\n",
      "  if getattr(data, 'base', None) is not None and \\\n",
      "\n"
     ]
    },
    {
     "name": "stdout",
     "output_type": "stream",
     "text": [
      "\r",
      " 63%|██████▎   | 63/100 [3:29:43<2:00:31, 195.44s/trial, best loss: 41.97087158350894]"
     ]
    },
    {
     "name": "stderr",
     "output_type": "stream",
     "text": [
      "/opt/anaconda3/envs/learn-env/lib/python3.6/site-packages/xgboost/core.py:587: FutureWarning: Series.base is deprecated and will be removed in a future version\n",
      "  if getattr(data, 'base', None) is not None and \\\n",
      "\n"
     ]
    },
    {
     "name": "stdout",
     "output_type": "stream",
     "text": [
      "\r",
      " 64%|██████▍   | 64/100 [3:30:57<1:35:18, 158.84s/trial, best loss: 41.97087158350894]"
     ]
    },
    {
     "name": "stderr",
     "output_type": "stream",
     "text": [
      "/opt/anaconda3/envs/learn-env/lib/python3.6/site-packages/xgboost/core.py:587: FutureWarning: Series.base is deprecated and will be removed in a future version\n",
      "  if getattr(data, 'base', None) is not None and \\\n",
      "\n"
     ]
    },
    {
     "name": "stdout",
     "output_type": "stream",
     "text": [
      "\r",
      " 65%|██████▌   | 65/100 [3:36:38<2:04:29, 213.43s/trial, best loss: 41.97087158350894]"
     ]
    },
    {
     "name": "stderr",
     "output_type": "stream",
     "text": [
      "/opt/anaconda3/envs/learn-env/lib/python3.6/site-packages/xgboost/core.py:587: FutureWarning: Series.base is deprecated and will be removed in a future version\n",
      "  if getattr(data, 'base', None) is not None and \\\n",
      "\n"
     ]
    },
    {
     "name": "stdout",
     "output_type": "stream",
     "text": [
      "\r",
      " 66%|██████▌   | 66/100 [3:43:52<2:38:32, 279.78s/trial, best loss: 41.97087158350894]"
     ]
    },
    {
     "name": "stderr",
     "output_type": "stream",
     "text": [
      "/opt/anaconda3/envs/learn-env/lib/python3.6/site-packages/xgboost/core.py:587: FutureWarning: Series.base is deprecated and will be removed in a future version\n",
      "  if getattr(data, 'base', None) is not None and \\\n",
      "\n"
     ]
    },
    {
     "name": "stdout",
     "output_type": "stream",
     "text": [
      "\r",
      " 67%|██████▋   | 67/100 [3:52:12<3:10:10, 345.77s/trial, best loss: 41.97087158350894]"
     ]
    },
    {
     "name": "stderr",
     "output_type": "stream",
     "text": [
      "/opt/anaconda3/envs/learn-env/lib/python3.6/site-packages/xgboost/core.py:587: FutureWarning: Series.base is deprecated and will be removed in a future version\n",
      "  if getattr(data, 'base', None) is not None and \\\n",
      "\n"
     ]
    },
    {
     "name": "stdout",
     "output_type": "stream",
     "text": [
      "\r",
      " 68%|██████▊   | 68/100 [4:00:26<3:28:05, 390.16s/trial, best loss: 41.4304160144037] "
     ]
    },
    {
     "name": "stderr",
     "output_type": "stream",
     "text": [
      "/opt/anaconda3/envs/learn-env/lib/python3.6/site-packages/xgboost/core.py:587: FutureWarning: Series.base is deprecated and will be removed in a future version\n",
      "  if getattr(data, 'base', None) is not None and \\\n",
      "\n"
     ]
    },
    {
     "name": "stdout",
     "output_type": "stream",
     "text": [
      "\r",
      " 69%|██████▉   | 69/100 [4:08:00<3:31:27, 409.26s/trial, best loss: 41.4304160144037]"
     ]
    },
    {
     "name": "stderr",
     "output_type": "stream",
     "text": [
      "/opt/anaconda3/envs/learn-env/lib/python3.6/site-packages/xgboost/core.py:587: FutureWarning: Series.base is deprecated and will be removed in a future version\n",
      "  if getattr(data, 'base', None) is not None and \\\n",
      "\n"
     ]
    },
    {
     "name": "stdout",
     "output_type": "stream",
     "text": [
      "\r",
      " 70%|███████   | 70/100 [4:16:36<3:40:41, 441.39s/trial, best loss: 41.4304160144037]"
     ]
    },
    {
     "name": "stderr",
     "output_type": "stream",
     "text": [
      "/opt/anaconda3/envs/learn-env/lib/python3.6/site-packages/xgboost/core.py:587: FutureWarning: Series.base is deprecated and will be removed in a future version\n",
      "  if getattr(data, 'base', None) is not None and \\\n",
      "\n"
     ]
    },
    {
     "name": "stdout",
     "output_type": "stream",
     "text": [
      "\r",
      " 71%|███████   | 71/100 [4:25:22<3:45:34, 466.70s/trial, best loss: 41.4304160144037]"
     ]
    },
    {
     "name": "stderr",
     "output_type": "stream",
     "text": [
      "/opt/anaconda3/envs/learn-env/lib/python3.6/site-packages/xgboost/core.py:587: FutureWarning: Series.base is deprecated and will be removed in a future version\n",
      "  if getattr(data, 'base', None) is not None and \\\n",
      "\n"
     ]
    },
    {
     "name": "stdout",
     "output_type": "stream",
     "text": [
      "\r",
      " 72%|███████▏  | 72/100 [4:30:46<3:17:49, 423.90s/trial, best loss: 41.4304160144037]"
     ]
    },
    {
     "name": "stderr",
     "output_type": "stream",
     "text": [
      "/opt/anaconda3/envs/learn-env/lib/python3.6/site-packages/xgboost/core.py:587: FutureWarning: Series.base is deprecated and will be removed in a future version\n",
      "  if getattr(data, 'base', None) is not None and \\\n",
      "\n"
     ]
    },
    {
     "name": "stdout",
     "output_type": "stream",
     "text": [
      "\r",
      " 73%|███████▎  | 73/100 [4:38:07<3:13:07, 429.18s/trial, best loss: 41.4304160144037]"
     ]
    },
    {
     "name": "stderr",
     "output_type": "stream",
     "text": [
      "/opt/anaconda3/envs/learn-env/lib/python3.6/site-packages/xgboost/core.py:587: FutureWarning: Series.base is deprecated and will be removed in a future version\n",
      "  if getattr(data, 'base', None) is not None and \\\n",
      "\n"
     ]
    },
    {
     "name": "stdout",
     "output_type": "stream",
     "text": [
      "\r",
      " 74%|███████▍  | 74/100 [4:39:12<2:18:33, 319.75s/trial, best loss: 41.4304160144037]"
     ]
    },
    {
     "name": "stderr",
     "output_type": "stream",
     "text": [
      "/opt/anaconda3/envs/learn-env/lib/python3.6/site-packages/xgboost/core.py:587: FutureWarning: Series.base is deprecated and will be removed in a future version\n",
      "  if getattr(data, 'base', None) is not None and \\\n",
      "\n"
     ]
    },
    {
     "name": "stdout",
     "output_type": "stream",
     "text": [
      "\r",
      " 75%|███████▌  | 75/100 [4:45:29<2:20:25, 337.00s/trial, best loss: 41.4304160144037]"
     ]
    },
    {
     "name": "stderr",
     "output_type": "stream",
     "text": [
      "/opt/anaconda3/envs/learn-env/lib/python3.6/site-packages/xgboost/core.py:587: FutureWarning: Series.base is deprecated and will be removed in a future version\n",
      "  if getattr(data, 'base', None) is not None and \\\n",
      "\n"
     ]
    },
    {
     "name": "stdout",
     "output_type": "stream",
     "text": [
      "\r",
      " 76%|███████▌  | 76/100 [4:48:19<1:54:45, 286.88s/trial, best loss: 41.4304160144037]"
     ]
    },
    {
     "name": "stderr",
     "output_type": "stream",
     "text": [
      "/opt/anaconda3/envs/learn-env/lib/python3.6/site-packages/xgboost/core.py:587: FutureWarning: Series.base is deprecated and will be removed in a future version\n",
      "  if getattr(data, 'base', None) is not None and \\\n",
      "\n"
     ]
    },
    {
     "name": "stdout",
     "output_type": "stream",
     "text": [
      "\r",
      " 77%|███████▋  | 77/100 [4:54:17<1:58:13, 308.43s/trial, best loss: 41.4304160144037]"
     ]
    },
    {
     "name": "stderr",
     "output_type": "stream",
     "text": [
      "/opt/anaconda3/envs/learn-env/lib/python3.6/site-packages/xgboost/core.py:587: FutureWarning: Series.base is deprecated and will be removed in a future version\n",
      "  if getattr(data, 'base', None) is not None and \\\n",
      "\n"
     ]
    },
    {
     "name": "stdout",
     "output_type": "stream",
     "text": [
      "\r",
      " 78%|███████▊  | 78/100 [5:00:17<1:58:44, 323.86s/trial, best loss: 41.4304160144037]"
     ]
    },
    {
     "name": "stderr",
     "output_type": "stream",
     "text": [
      "/opt/anaconda3/envs/learn-env/lib/python3.6/site-packages/xgboost/core.py:587: FutureWarning: Series.base is deprecated and will be removed in a future version\n",
      "  if getattr(data, 'base', None) is not None and \\\n",
      "\n"
     ]
    },
    {
     "name": "stdout",
     "output_type": "stream",
     "text": [
      "\r",
      " 79%|███████▉  | 79/100 [5:05:00<1:49:03, 311.57s/trial, best loss: 41.4304160144037]"
     ]
    },
    {
     "name": "stderr",
     "output_type": "stream",
     "text": [
      "/opt/anaconda3/envs/learn-env/lib/python3.6/site-packages/xgboost/core.py:587: FutureWarning: Series.base is deprecated and will be removed in a future version\n",
      "  if getattr(data, 'base', None) is not None and \\\n",
      "\n"
     ]
    },
    {
     "name": "stdout",
     "output_type": "stream",
     "text": [
      "\r",
      " 80%|████████  | 80/100 [5:07:37<1:28:21, 265.06s/trial, best loss: 41.4304160144037]"
     ]
    },
    {
     "name": "stderr",
     "output_type": "stream",
     "text": [
      "/opt/anaconda3/envs/learn-env/lib/python3.6/site-packages/xgboost/core.py:587: FutureWarning: Series.base is deprecated and will be removed in a future version\n",
      "  if getattr(data, 'base', None) is not None and \\\n",
      "\n"
     ]
    },
    {
     "name": "stdout",
     "output_type": "stream",
     "text": [
      "\r",
      " 81%|████████  | 81/100 [5:09:18<1:08:22, 215.94s/trial, best loss: 41.4304160144037]"
     ]
    },
    {
     "name": "stderr",
     "output_type": "stream",
     "text": [
      "/opt/anaconda3/envs/learn-env/lib/python3.6/site-packages/xgboost/core.py:587: FutureWarning: Series.base is deprecated and will be removed in a future version\n",
      "  if getattr(data, 'base', None) is not None and \\\n",
      "\n"
     ]
    },
    {
     "name": "stdout",
     "output_type": "stream",
     "text": [
      "\r",
      " 82%|████████▏ | 82/100 [5:18:06<1:32:51, 309.52s/trial, best loss: 41.4304160144037]"
     ]
    },
    {
     "name": "stderr",
     "output_type": "stream",
     "text": [
      "/opt/anaconda3/envs/learn-env/lib/python3.6/site-packages/xgboost/core.py:587: FutureWarning: Series.base is deprecated and will be removed in a future version\n",
      "  if getattr(data, 'base', None) is not None and \\\n",
      "\n"
     ]
    },
    {
     "name": "stdout",
     "output_type": "stream",
     "text": [
      "\r",
      " 83%|████████▎ | 83/100 [5:21:49<1:20:18, 283.43s/trial, best loss: 41.4304160144037]"
     ]
    },
    {
     "name": "stderr",
     "output_type": "stream",
     "text": [
      "/opt/anaconda3/envs/learn-env/lib/python3.6/site-packages/xgboost/core.py:587: FutureWarning: Series.base is deprecated and will be removed in a future version\n",
      "  if getattr(data, 'base', None) is not None and \\\n",
      "\n"
     ]
    },
    {
     "name": "stdout",
     "output_type": "stream",
     "text": [
      "\r",
      " 84%|████████▍ | 84/100 [5:26:08<1:13:41, 276.37s/trial, best loss: 41.4304160144037]"
     ]
    },
    {
     "name": "stderr",
     "output_type": "stream",
     "text": [
      "/opt/anaconda3/envs/learn-env/lib/python3.6/site-packages/xgboost/core.py:587: FutureWarning: Series.base is deprecated and will be removed in a future version\n",
      "  if getattr(data, 'base', None) is not None and \\\n",
      "\n"
     ]
    },
    {
     "name": "stdout",
     "output_type": "stream",
     "text": [
      "\r",
      " 85%|████████▌ | 85/100 [5:31:14<1:11:16, 285.07s/trial, best loss: 41.4304160144037]"
     ]
    },
    {
     "name": "stderr",
     "output_type": "stream",
     "text": [
      "/opt/anaconda3/envs/learn-env/lib/python3.6/site-packages/xgboost/core.py:587: FutureWarning: Series.base is deprecated and will be removed in a future version\n",
      "  if getattr(data, 'base', None) is not None and \\\n",
      "\n"
     ]
    },
    {
     "name": "stdout",
     "output_type": "stream",
     "text": [
      "\r",
      " 86%|████████▌ | 86/100 [5:32:39<52:29, 224.97s/trial, best loss: 41.4304160144037]  "
     ]
    },
    {
     "name": "stderr",
     "output_type": "stream",
     "text": [
      "/opt/anaconda3/envs/learn-env/lib/python3.6/site-packages/xgboost/core.py:587: FutureWarning: Series.base is deprecated and will be removed in a future version\n",
      "  if getattr(data, 'base', None) is not None and \\\n",
      "\n"
     ]
    },
    {
     "name": "stdout",
     "output_type": "stream",
     "text": [
      "\r",
      " 87%|████████▋ | 87/100 [5:34:54<42:56, 198.18s/trial, best loss: 41.4304160144037]"
     ]
    },
    {
     "name": "stderr",
     "output_type": "stream",
     "text": [
      "/opt/anaconda3/envs/learn-env/lib/python3.6/site-packages/xgboost/core.py:587: FutureWarning: Series.base is deprecated and will be removed in a future version\n",
      "  if getattr(data, 'base', None) is not None and \\\n",
      "\n"
     ]
    },
    {
     "name": "stdout",
     "output_type": "stream",
     "text": [
      "\r",
      " 88%|████████▊ | 88/100 [5:36:13<32:28, 162.40s/trial, best loss: 41.4304160144037]"
     ]
    },
    {
     "name": "stderr",
     "output_type": "stream",
     "text": [
      "/opt/anaconda3/envs/learn-env/lib/python3.6/site-packages/xgboost/core.py:587: FutureWarning: Series.base is deprecated and will be removed in a future version\n",
      "  if getattr(data, 'base', None) is not None and \\\n",
      "\n"
     ]
    },
    {
     "name": "stdout",
     "output_type": "stream",
     "text": [
      "\r",
      " 89%|████████▉ | 89/100 [5:44:19<47:34, 259.52s/trial, best loss: 41.4304160144037]"
     ]
    },
    {
     "name": "stderr",
     "output_type": "stream",
     "text": [
      "/opt/anaconda3/envs/learn-env/lib/python3.6/site-packages/xgboost/core.py:587: FutureWarning: Series.base is deprecated and will be removed in a future version\n",
      "  if getattr(data, 'base', None) is not None and \\\n",
      "\n"
     ]
    },
    {
     "name": "stdout",
     "output_type": "stream",
     "text": [
      "\r",
      " 90%|█████████ | 90/100 [5:47:37<40:10, 241.06s/trial, best loss: 41.4304160144037]"
     ]
    },
    {
     "name": "stderr",
     "output_type": "stream",
     "text": [
      "/opt/anaconda3/envs/learn-env/lib/python3.6/site-packages/xgboost/core.py:587: FutureWarning: Series.base is deprecated and will be removed in a future version\n",
      "  if getattr(data, 'base', None) is not None and \\\n",
      "\n"
     ]
    },
    {
     "name": "stdout",
     "output_type": "stream",
     "text": [
      "\r",
      " 91%|█████████ | 91/100 [5:50:39<33:28, 223.21s/trial, best loss: 41.4304160144037]"
     ]
    },
    {
     "name": "stderr",
     "output_type": "stream",
     "text": [
      "/opt/anaconda3/envs/learn-env/lib/python3.6/site-packages/xgboost/core.py:587: FutureWarning: Series.base is deprecated and will be removed in a future version\n",
      "  if getattr(data, 'base', None) is not None and \\\n",
      "\n"
     ]
    },
    {
     "name": "stdout",
     "output_type": "stream",
     "text": [
      "\r",
      " 92%|█████████▏| 92/100 [5:54:30<30:03, 225.46s/trial, best loss: 41.4304160144037]"
     ]
    },
    {
     "name": "stderr",
     "output_type": "stream",
     "text": [
      "/opt/anaconda3/envs/learn-env/lib/python3.6/site-packages/xgboost/core.py:587: FutureWarning: Series.base is deprecated and will be removed in a future version\n",
      "  if getattr(data, 'base', None) is not None and \\\n",
      "\n"
     ]
    },
    {
     "name": "stdout",
     "output_type": "stream",
     "text": [
      "\r",
      " 93%|█████████▎| 93/100 [6:00:47<31:36, 270.94s/trial, best loss: 41.4304160144037]"
     ]
    },
    {
     "name": "stderr",
     "output_type": "stream",
     "text": [
      "/opt/anaconda3/envs/learn-env/lib/python3.6/site-packages/xgboost/core.py:587: FutureWarning: Series.base is deprecated and will be removed in a future version\n",
      "  if getattr(data, 'base', None) is not None and \\\n",
      "\n"
     ]
    },
    {
     "name": "stdout",
     "output_type": "stream",
     "text": [
      "\r",
      " 94%|█████████▍| 94/100 [6:08:21<32:35, 325.92s/trial, best loss: 41.4304160144037]"
     ]
    },
    {
     "name": "stderr",
     "output_type": "stream",
     "text": [
      "/opt/anaconda3/envs/learn-env/lib/python3.6/site-packages/xgboost/core.py:587: FutureWarning: Series.base is deprecated and will be removed in a future version\n",
      "  if getattr(data, 'base', None) is not None and \\\n",
      "\n"
     ]
    },
    {
     "name": "stdout",
     "output_type": "stream",
     "text": [
      "\r",
      " 95%|█████████▌| 95/100 [6:09:41<21:00, 252.19s/trial, best loss: 41.4304160144037]"
     ]
    },
    {
     "name": "stderr",
     "output_type": "stream",
     "text": [
      "/opt/anaconda3/envs/learn-env/lib/python3.6/site-packages/xgboost/core.py:587: FutureWarning: Series.base is deprecated and will be removed in a future version\n",
      "  if getattr(data, 'base', None) is not None and \\\n",
      "\n"
     ]
    },
    {
     "name": "stdout",
     "output_type": "stream",
     "text": [
      "\r",
      " 96%|█████████▌| 96/100 [6:12:18<14:54, 223.71s/trial, best loss: 41.4304160144037]"
     ]
    },
    {
     "name": "stderr",
     "output_type": "stream",
     "text": [
      "/opt/anaconda3/envs/learn-env/lib/python3.6/site-packages/xgboost/core.py:587: FutureWarning: Series.base is deprecated and will be removed in a future version\n",
      "  if getattr(data, 'base', None) is not None and \\\n",
      "\n"
     ]
    },
    {
     "name": "stdout",
     "output_type": "stream",
     "text": [
      "\r",
      " 97%|█████████▋| 97/100 [6:15:13<10:26, 208.91s/trial, best loss: 41.4304160144037]"
     ]
    },
    {
     "name": "stderr",
     "output_type": "stream",
     "text": [
      "/opt/anaconda3/envs/learn-env/lib/python3.6/site-packages/xgboost/core.py:587: FutureWarning: Series.base is deprecated and will be removed in a future version\n",
      "  if getattr(data, 'base', None) is not None and \\\n",
      "\n"
     ]
    },
    {
     "name": "stdout",
     "output_type": "stream",
     "text": [
      "\r",
      " 98%|█████████▊| 98/100 [6:15:22<04:58, 149.12s/trial, best loss: 41.4304160144037]"
     ]
    },
    {
     "name": "stderr",
     "output_type": "stream",
     "text": [
      "/opt/anaconda3/envs/learn-env/lib/python3.6/site-packages/xgboost/core.py:587: FutureWarning: Series.base is deprecated and will be removed in a future version\n",
      "  if getattr(data, 'base', None) is not None and \\\n",
      "\n"
     ]
    },
    {
     "name": "stdout",
     "output_type": "stream",
     "text": [
      "\r",
      " 99%|█████████▉| 99/100 [6:20:42<03:20, 200.24s/trial, best loss: 41.4304160144037]"
     ]
    },
    {
     "name": "stderr",
     "output_type": "stream",
     "text": [
      "/opt/anaconda3/envs/learn-env/lib/python3.6/site-packages/xgboost/core.py:587: FutureWarning: Series.base is deprecated and will be removed in a future version\n",
      "  if getattr(data, 'base', None) is not None and \\\n",
      "\n"
     ]
    },
    {
     "name": "stdout",
     "output_type": "stream",
     "text": [
      "100%|██████████| 100/100 [6:27:26<00:00, 232.46s/trial, best loss: 41.4304160144037]\n",
      "{'colsample_bytree': 0.9403466900379582, 'eta': 0.21528661704301205, 'gamma': 2.5897781746226523, 'max_depth': 19, 'min_child_weight': 0.0, 'n_estimators': 410.0, 'reg_lambda': 54.0}\n"
     ]
    }
   ],
   "source": [
    "#space = {'n_estimators': hp.quniform('n_estimators',50,500,10),'eta':hp.uniform('eta',0.05,0.6),\n",
    "#     'max_depth':hp.randint('max_depth',20),'min_child_weight':hp.quniform('min_child_weight',0,10,1),'gamma':hp.uniform('gamma',0,9),\n",
    "#     'colsample_bytree':hp.uniform('colsample_bytree',0.5,1),'reg_lambda':hp.quniform('reg_lambda',0,100,1),}\n",
    "\n",
    "#def objective(params):\n",
    "#    num_round = int(params['n_estimators'])\n",
    "#    del params['n_estimators']\n",
    "#    \n",
    "#    dtrain = xgboost.DMatrix(X_train,label=y_train)\n",
    "#    dval = xgboost.DMatrix(X_val,label=y_val)\n",
    "#    watchlist = [(dval,'eval'), (dtrain,'train')]\n",
    "\n",
    "#    model = xgboost.train(params, dtrain, num_round,\n",
    "#                           evals=watchlist,\n",
    "#                           verbose_eval=False)\n",
    "#    preds = model.predict(dval)\n",
    "#    rmse = np.sqrt(mean_squared_error(y_val,preds))\n",
    "#    return {\"loss\":rmse,\"status\":STATUS_OK}\n",
    "\n",
    "#trials = Trials()\n",
    "    \n",
    "#best_hyperparams = fmin(fn=objective, space=space, algo=tpe.suggest, max_evals=100, trials=trials)\n",
    "#print(best_hyperparams)"
   ]
  },
  {
   "cell_type": "markdown",
   "metadata": {},
   "source": [
    "{'colsample_bytree': 0.9403466900379582, 'eta': 0.21528661704301205, 'gamma': 2.5897781746226523, 'max_depth': 19, 'min_child_weight': 0.0, 'n_estimators': 410.0, 'reg_lambda': 54.0}\n",
    "\n"
   ]
  },
  {
   "cell_type": "markdown",
   "metadata": {},
   "source": [
    "### 3.1.2 Training with the best set of hyperparameters\n",
    "\n",
    "we use the best features from the tuning to input into our model"
   ]
  },
  {
   "cell_type": "code",
   "execution_count": 63,
   "metadata": {},
   "outputs": [
    {
     "data": {
      "text/plain": [
       "XGBRegressor(base_score=0.5, booster='gbtree', colsample_bylevel=1,\n",
       "             colsample_bynode=1, colsample_bytree=0.9403466900379582,\n",
       "             eta=0.21528661704301205, eval_metric='rmse',\n",
       "             gamma=2.5897781746226523, importance_type='gain',\n",
       "             learning_rate=0.1, max_delta_step=0, max_depth=19,\n",
       "             min_child_weight=0.0, missing=None, n_estimators=410, n_jobs=1,\n",
       "             nthread=None, objective='reg:squarederror', random_state=0,\n",
       "             reg_alpha=0, reg_lambda=54.0, scale_pos_weight=1, seed=42,\n",
       "             silent=None, subsample=1, verbosity=1)"
      ]
     },
     "execution_count": 63,
     "metadata": {},
     "output_type": "execute_result"
    }
   ],
   "source": [
    "fix_params = {'objective':'reg:squarederror','eval_metric':'rmse','seed':42}\n",
    "best_hyperparams = {'colsample_bytree': 0.9403466900379582, 'eta': 0.21528661704301205, 'gamma': 2.5897781746226523, 'max_depth': 19, 'min_child_weight': 0.0, 'n_estimators': 410, 'reg_lambda': 54.0}\n",
    "params = {**fix_params,**best_hyperparams}\n",
    "\n",
    "model = XGBRegressor(**params)\n",
    "model.fit(X_train,y_train)"
   ]
  },
  {
   "cell_type": "markdown",
   "metadata": {},
   "source": [
    "Here we save our model to the folder. I then open this model in Vscode to use in the dash app I built"
   ]
  },
  {
   "cell_type": "code",
   "execution_count": 34,
   "metadata": {},
   "outputs": [
    {
     "ename": "NameError",
     "evalue": "name 'model' is not defined",
     "output_type": "error",
     "traceback": [
      "\u001b[0;31m---------------------------------------------------------------------------\u001b[0m",
      "\u001b[0;31mNameError\u001b[0m                                 Traceback (most recent call last)",
      "\u001b[0;32m<ipython-input-34-337825ca6dbc>\u001b[0m in \u001b[0;36m<module>\u001b[0;34m\u001b[0m\n\u001b[0;32m----> 1\u001b[0;31m \u001b[0mmodel\u001b[0m\u001b[0;34m.\u001b[0m\u001b[0msave_model\u001b[0m\u001b[0;34m(\u001b[0m\u001b[0;34mf'models/model_{str(datetime.today().date())}.json'\u001b[0m\u001b[0;34m)\u001b[0m\u001b[0;34m\u001b[0m\u001b[0;34m\u001b[0m\u001b[0m\n\u001b[0m",
      "\u001b[0;31mNameError\u001b[0m: name 'model' is not defined"
     ]
    }
   ],
   "source": [
    "model.save_model(f'models/model_{str(datetime.today().date())}.json')"
   ]
  },
  {
   "cell_type": "markdown",
   "metadata": {},
   "source": [
    "## 3.2 Evaluation"
   ]
  },
  {
   "cell_type": "code",
   "execution_count": 33,
   "metadata": {
    "scrolled": false
   },
   "outputs": [
    {
     "ename": "NameError",
     "evalue": "name 'model' is not defined",
     "output_type": "error",
     "traceback": [
      "\u001b[0;31m---------------------------------------------------------------------------\u001b[0m",
      "\u001b[0;31mNameError\u001b[0m                                 Traceback (most recent call last)",
      "\u001b[0;32m<ipython-input-33-7d330f37dcec>\u001b[0m in \u001b[0;36m<module>\u001b[0;34m\u001b[0m\n\u001b[0;32m----> 1\u001b[0;31m \u001b[0mpreds\u001b[0m \u001b[0;34m=\u001b[0m \u001b[0mmodel\u001b[0m\u001b[0;34m.\u001b[0m\u001b[0mpredict\u001b[0m\u001b[0;34m(\u001b[0m\u001b[0mX_test\u001b[0m\u001b[0;34m)\u001b[0m\u001b[0;34m\u001b[0m\u001b[0;34m\u001b[0m\u001b[0m\n\u001b[0m",
      "\u001b[0;31mNameError\u001b[0m: name 'model' is not defined"
     ]
    }
   ],
   "source": [
    "preds = model.predict(X_test)"
   ]
  },
  {
   "cell_type": "code",
   "execution_count": 66,
   "metadata": {},
   "outputs": [
    {
     "name": "stdout",
     "output_type": "stream",
     "text": [
      "RMSE: 42.97\n",
      "Correlation coefficient: 0.915\n"
     ]
    }
   ],
   "source": [
    "print(f'RMSE: {np.sqrt(mean_squared_error(preds,y_test)):.2f}')\n",
    "print(f'Correlation coefficient: {np.corrcoef(preds,y_test)[0,1]:.3f}') #58.44, 0.845"
   ]
  },
  {
   "cell_type": "code",
   "execution_count": 68,
   "metadata": {},
   "outputs": [
    {
     "name": "stdout",
     "output_type": "stream",
     "text": [
      "RMSE for limit of 400 is 32.91\n"
     ]
    }
   ],
   "source": [
    "LIMIT = 400\n",
    "idxs = np.argwhere(y_test.values<LIMIT).flatten()\n",
    "preds_with_limit = model.predict(X_test.iloc[idxs])\n",
    "rmse_with_limit = np.sqrt(mean_squared_error(preds_with_limit,y_test.iloc[idxs]))\n",
    "print(f\"RMSE for limit of {LIMIT} is {rmse_with_limit:.2f}\")"
   ]
  },
  {
   "cell_type": "code",
   "execution_count": 75,
   "metadata": {},
   "outputs": [
    {
     "data": {
      "image/png": "[encoded data removed]",
      "text/plain": [
       "<Figure size 720x576 with 1 Axes>"
      ]
     },
     "metadata": {
      "needs_background": "light"
     },
     "output_type": "display_data"
    }
   ],
   "source": [
    "x = np.arange(0,900,1)\n",
    "y = np.arange(0,900,1)\n",
    "\n",
    "plt.figure(figsize=[10,8])\n",
    "plt.scatter(x=y_test,y=preds)\n",
    "plt.plot(x,y,'--r',label='Perfect case')\n",
    "plt.xlabel(\"True Price\")\n",
    "plt.ylabel(\"Predicted Price\")\n",
    "plt.grid()\n",
    "plt.legend()\n",
    "plt.show()"
   ]
  },
  {
   "cell_type": "markdown",
   "metadata": {},
   "source": [
    "## 3.3 Further Interpretation"
   ]
  },
  {
   "cell_type": "code",
   "execution_count": 70,
   "metadata": {},
   "outputs": [
    {
     "data": {
      "text/plain": [
       "<matplotlib.axes._subplots.AxesSubplot at 0x1a25fac198>"
      ]
     },
     "execution_count": 70,
     "metadata": {},
     "output_type": "execute_result"
    },
    {
     "data": {
      "image/png": "[encoded data removed]",
      "text/plain": [
       "<Figure size 432x288 with 1 Axes>"
      ]
     },
     "metadata": {
      "needs_background": "light"
     },
     "output_type": "display_data"
    },
    {
     "data": {
      "image/png": "[encoded data removed]",
      "text/plain": [
       "<Figure size 432x288 with 1 Axes>"
      ]
     },
     "metadata": {
      "needs_background": "light"
     },
     "output_type": "display_data"
    },
    {
     "data": {
      "image/png": "[encoded data removed]",
      "text/plain": [
       "<Figure size 432x288 with 1 Axes>"
      ]
     },
     "metadata": {
      "needs_background": "light"
     },
     "output_type": "display_data"
    }
   ],
   "source": [
    "xgboost.plot_importance(model,max_num_features=20,importance_type='weight')\n",
    "xgboost.plot_importance(model,max_num_features=20,importance_type='gain')\n",
    "xgboost.plot_importance(model,max_num_features=20,importance_type='cover')"
   ]
  },
  {
   "cell_type": "code",
   "execution_count": 73,
   "metadata": {},
   "outputs": [
    {
     "data": {
      "text/plain": [
       "<matplotlib.axes._subplots.AxesSubplot at 0x1a25b27a90>"
      ]
     },
     "execution_count": 73,
     "metadata": {},
     "output_type": "execute_result"
    },
    {
     "data": {
      "image/png": "[encoded data removed]",
      "text/plain": [
       "<Figure size 576x576 with 1 Axes>"
      ]
     },
     "metadata": {
      "needs_background": "light"
     },
     "output_type": "display_data"
    }
   ],
   "source": [
    "featureimp = model.feature_importances_\n",
    "dfimp = pd.DataFrame(data=featureimp, columns=[\"featureimp\"])\n",
    "dfcol = X_train.columns.to_frame(index=False, name = \"name\")\n",
    "result = pd.concat([dfimp, dfcol], axis=1)\n",
    "resultsorted = result.sort_values(by=['featureimp'], ascending = False).head(13)\n",
    "plt.figure(figsize = (8,8))\n",
    "sns.barplot(x = resultsorted[\"featureimp\"], y = resultsorted[\"name\"])"
   ]
  },
  {
   "cell_type": "markdown",
   "metadata": {},
   "source": [
    "# Conclusion\n",
    "\n",
    "I found great and extensive data from Airbnb. I analysed this data and performed a lot of data manipulation to make sure that it is usabel for us. \n",
    "\n",
    "We created an XGBoost model to predict the value of an airbnb property. We hyper tuned this model to find the ideal parameters. We then saved this model and created a dashboard to predict the value of a new property. \n",
    "\n",
    "We used dash to create the dashboard. We had to manipulate the data that is inputted into the dashboard so that it is in the right format for the model. We then run the inputed data through our model and we thus generate a price which we display in our dashboard. \n",
    "\n",
    "\n",
    "### Extensions\n",
    "\n",
    "In the future if i had more time i would like to optimise on the following things:\n",
    "\n",
    "1. I would futher tune the parameters of my model. \n",
    "2. I would include other features nameely the following:\n",
    "    a. I would use NLP to futher tune the amenitites filed\n",
    "    b. I would use spacy to find the location to major locations in the Uk and use this as an additional feature. \n",
    "    c. I would build a feature that calcualtes how close it is to the nearest tube stop\n",
    "3. I would improve the look of my dashboard\n",
    "\n"
   ]
  },
  {
   "cell_type": "markdown",
   "metadata": {},
   "source": []
  }
 ],
 "metadata": {
  "interpreter": {
   "hash": "68e1b5392a971a6472d1c1c7bf3c1cb2dca2483124c9594e51349c25ccc4320f"
  },
  "kernelspec": {
   "display_name": "Python 3",
   "language": "python",
   "name": "python3"
  },
  "language_info": {
   "codemirror_mode": {
    "name": "ipython",
    "version": 3
   },
   "file_extension": ".py",
   "mimetype": "text/x-python",
   "name": "python",
   "nbconvert_exporter": "python",
   "pygments_lexer": "ipython3",
   "version": "3.6.9"
  }
 },
 "nbformat": 4,
 "nbformat_minor": 2
}
